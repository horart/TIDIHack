{
 "cells": [
  {
   "cell_type": "markdown",
   "id": "6f45daa8-e3f7-45a0-949d-edc4f3f6ad80",
   "metadata": {},
   "source": [
    "# установка и импорт необходимых библиотек"
   ]
  },
  {
   "cell_type": "code",
   "execution_count": null,
   "id": "d4927833-b819-46a8-936b-6a328d0d6eff",
   "metadata": {},
   "outputs": [],
   "source": [
    "pip install pandas numpy shap scikit-learn catboost seaborn matplotlib"
   ]
  },
  {
   "cell_type": "code",
   "execution_count": null,
   "id": "bc860162-ffc9-40ae-aa17-578be61ac062",
   "metadata": {},
   "outputs": [],
   "source": [
    "import pandas as pd\n",
    "import numpy as np\n",
    "\n",
    "import shap\n",
    "import sklearn\n",
    "import catboost\n",
    "import seaborn as sns\n",
    "import matplotlib.pyplot as plt\n",
    "\n",
    "from sklearn.metrics import mean_absolute_error\n",
    "from sklearn.linear_model import LinearRegression\n",
    "\n",
    "%matplotlib inline"
   ]
  },
  {
   "cell_type": "markdown",
   "id": "baab9dbb-3fe4-4461-bedb-8c4a2d7a1ce0",
   "metadata": {},
   "source": [
    "## небольшие изначальные преднастройки"
   ]
  },
  {
   "cell_type": "code",
   "execution_count": 2,
   "id": "4275a0c1-0da2-4847-b4fb-b9fcbfa3cfff",
   "metadata": {},
   "outputs": [],
   "source": [
    "sns.set_style(\"darkgrid\") # У графиков будет красивая серая подложка. "
   ]
  },
  {
   "cell_type": "markdown",
   "id": "81a5afbe-999e-466e-a87e-5303c8f34821",
   "metadata": {},
   "source": [
    "# работа с датасетом"
   ]
  },
  {
   "cell_type": "markdown",
   "id": "3f736c74-5590-4fcc-b49f-38f9dcc8d49f",
   "metadata": {},
   "source": [
    "## 1.1 вывод данных о датасете"
   ]
  },
  {
   "cell_type": "code",
   "execution_count": 3,
   "id": "765b5e5b-bd39-4cbb-9daf-8db72399227a",
   "metadata": {},
   "outputs": [],
   "source": [
    "from sklearn.datasets import load_diabetes"
   ]
  },
  {
   "cell_type": "code",
   "execution_count": 4,
   "id": "7ba5d709-1b4b-4791-8434-4809db375d46",
   "metadata": {},
   "outputs": [],
   "source": [
    "# Загружаем датасет по задаче прогнозирования индекса диабета.\n",
    "data = load_diabetes(scaled=False)\n",
    "diabetes_df = pd.DataFrame(data.data, columns=data.feature_names)\n",
    "diabetes_df.insert(10, 'disease_progress', data.target)"
   ]
  },
  {
   "cell_type": "markdown",
   "id": "a7e28ce7-ca3a-4b9f-9f58-bab25d286331",
   "metadata": {},
   "source": [
    "с помощью метода `.head()` можно вывести первые строчки датасета"
   ]
  },
  {
   "cell_type": "code",
   "execution_count": 5,
   "id": "a408841d-e5f6-40f0-af28-49b449667b17",
   "metadata": {},
   "outputs": [
    {
     "data": {
      "text/html": [
       "<div>\n",
       "<style scoped>\n",
       "    .dataframe tbody tr th:only-of-type {\n",
       "        vertical-align: middle;\n",
       "    }\n",
       "\n",
       "    .dataframe tbody tr th {\n",
       "        vertical-align: top;\n",
       "    }\n",
       "\n",
       "    .dataframe thead th {\n",
       "        text-align: right;\n",
       "    }\n",
       "</style>\n",
       "<table border=\"1\" class=\"dataframe\">\n",
       "  <thead>\n",
       "    <tr style=\"text-align: right;\">\n",
       "      <th></th>\n",
       "      <th>age</th>\n",
       "      <th>sex</th>\n",
       "      <th>bmi</th>\n",
       "      <th>bp</th>\n",
       "      <th>s1</th>\n",
       "      <th>s2</th>\n",
       "      <th>s3</th>\n",
       "      <th>s4</th>\n",
       "      <th>s5</th>\n",
       "      <th>s6</th>\n",
       "      <th>disease_progress</th>\n",
       "    </tr>\n",
       "  </thead>\n",
       "  <tbody>\n",
       "    <tr>\n",
       "      <th>0</th>\n",
       "      <td>59.0</td>\n",
       "      <td>2.0</td>\n",
       "      <td>32.1</td>\n",
       "      <td>101.0</td>\n",
       "      <td>157.0</td>\n",
       "      <td>93.2</td>\n",
       "      <td>38.0</td>\n",
       "      <td>4.0</td>\n",
       "      <td>4.8598</td>\n",
       "      <td>87.0</td>\n",
       "      <td>151.0</td>\n",
       "    </tr>\n",
       "    <tr>\n",
       "      <th>1</th>\n",
       "      <td>48.0</td>\n",
       "      <td>1.0</td>\n",
       "      <td>21.6</td>\n",
       "      <td>87.0</td>\n",
       "      <td>183.0</td>\n",
       "      <td>103.2</td>\n",
       "      <td>70.0</td>\n",
       "      <td>3.0</td>\n",
       "      <td>3.8918</td>\n",
       "      <td>69.0</td>\n",
       "      <td>75.0</td>\n",
       "    </tr>\n",
       "    <tr>\n",
       "      <th>2</th>\n",
       "      <td>72.0</td>\n",
       "      <td>2.0</td>\n",
       "      <td>30.5</td>\n",
       "      <td>93.0</td>\n",
       "      <td>156.0</td>\n",
       "      <td>93.6</td>\n",
       "      <td>41.0</td>\n",
       "      <td>4.0</td>\n",
       "      <td>4.6728</td>\n",
       "      <td>85.0</td>\n",
       "      <td>141.0</td>\n",
       "    </tr>\n",
       "    <tr>\n",
       "      <th>3</th>\n",
       "      <td>24.0</td>\n",
       "      <td>1.0</td>\n",
       "      <td>25.3</td>\n",
       "      <td>84.0</td>\n",
       "      <td>198.0</td>\n",
       "      <td>131.4</td>\n",
       "      <td>40.0</td>\n",
       "      <td>5.0</td>\n",
       "      <td>4.8903</td>\n",
       "      <td>89.0</td>\n",
       "      <td>206.0</td>\n",
       "    </tr>\n",
       "    <tr>\n",
       "      <th>4</th>\n",
       "      <td>50.0</td>\n",
       "      <td>1.0</td>\n",
       "      <td>23.0</td>\n",
       "      <td>101.0</td>\n",
       "      <td>192.0</td>\n",
       "      <td>125.4</td>\n",
       "      <td>52.0</td>\n",
       "      <td>4.0</td>\n",
       "      <td>4.2905</td>\n",
       "      <td>80.0</td>\n",
       "      <td>135.0</td>\n",
       "    </tr>\n",
       "  </tbody>\n",
       "</table>\n",
       "</div>"
      ],
      "text/plain": [
       "    age  sex   bmi     bp     s1     s2    s3   s4      s5    s6  \\\n",
       "0  59.0  2.0  32.1  101.0  157.0   93.2  38.0  4.0  4.8598  87.0   \n",
       "1  48.0  1.0  21.6   87.0  183.0  103.2  70.0  3.0  3.8918  69.0   \n",
       "2  72.0  2.0  30.5   93.0  156.0   93.6  41.0  4.0  4.6728  85.0   \n",
       "3  24.0  1.0  25.3   84.0  198.0  131.4  40.0  5.0  4.8903  89.0   \n",
       "4  50.0  1.0  23.0  101.0  192.0  125.4  52.0  4.0  4.2905  80.0   \n",
       "\n",
       "   disease_progress  \n",
       "0             151.0  \n",
       "1              75.0  \n",
       "2             141.0  \n",
       "3             206.0  \n",
       "4             135.0  "
      ]
     },
     "execution_count": 5,
     "metadata": {},
     "output_type": "execute_result"
    }
   ],
   "source": [
    "diabetes_df.head(5)"
   ]
  },
  {
   "cell_type": "markdown",
   "id": "d462b90b-4658-4b96-b98b-d5254f0efd5c",
   "metadata": {},
   "source": [
    "с помощью метода `.shape` можно вывести размер таблицы"
   ]
  },
  {
   "cell_type": "code",
   "execution_count": 6,
   "id": "ed61cb33-182f-45fb-9cc8-d0ac5da48a12",
   "metadata": {},
   "outputs": [
    {
     "data": {
      "text/plain": [
       "(442, 11)"
      ]
     },
     "execution_count": 6,
     "metadata": {},
     "output_type": "execute_result"
    }
   ],
   "source": [
    "diabetes_df.shape"
   ]
  },
  {
   "cell_type": "markdown",
   "id": "69516626-46cb-4ae1-85a4-cb7a2cc99718",
   "metadata": {},
   "source": [
    "## 1.2 задание"
   ]
  },
  {
   "cell_type": "markdown",
   "id": "e79d45ba-8e8c-4d84-93df-9a5c279c9345",
   "metadata": {},
   "source": [
    "в директории `datasets` лежит файл `students.csv`. Импортируем его"
   ]
  },
  {
   "cell_type": "code",
   "execution_count": 58,
   "id": "d6840cfc-4b95-4a7e-bbab-35f357c02c58",
   "metadata": {},
   "outputs": [
    {
     "data": {
      "text/html": [
       "<div>\n",
       "<style scoped>\n",
       "    .dataframe tbody tr th:only-of-type {\n",
       "        vertical-align: middle;\n",
       "    }\n",
       "\n",
       "    .dataframe tbody tr th {\n",
       "        vertical-align: top;\n",
       "    }\n",
       "\n",
       "    .dataframe thead th {\n",
       "        text-align: right;\n",
       "    }\n",
       "</style>\n",
       "<table border=\"1\" class=\"dataframe\">\n",
       "  <thead>\n",
       "    <tr style=\"text-align: right;\">\n",
       "      <th></th>\n",
       "      <th>ФИО</th>\n",
       "      <th>Группа крови</th>\n",
       "      <th>Любимая еда</th>\n",
       "      <th>Наличие публикаций</th>\n",
       "      <th>Наличие золотой медали</th>\n",
       "      <th>Участие в олимпиадах НИУ ВШЭ</th>\n",
       "      <th>Мотивационное письмо</th>\n",
       "      <th>Мечта</th>\n",
       "      <th>Участие в подготовительных курсах НИУ ВШЭ</th>\n",
       "      <th>Частота прогулок</th>\n",
       "      <th>Участие во всероссийских олимпиадах</th>\n",
       "      <th>Хобби</th>\n",
       "      <th>Средний балл ЕГЭ</th>\n",
       "      <th>Участие в волонтерской деятельности</th>\n",
       "      <th>Средний балл аттестата</th>\n",
       "      <th>Любимый цвет</th>\n",
       "      <th>Наличие питомца</th>\n",
       "      <th>Target</th>\n",
       "    </tr>\n",
       "  </thead>\n",
       "  <tbody>\n",
       "    <tr>\n",
       "      <th>0</th>\n",
       "      <td>Козлова Валерия Константиновна</td>\n",
       "      <td>II</td>\n",
       "      <td>Бургер</td>\n",
       "      <td>Да</td>\n",
       "      <td>-</td>\n",
       "      <td>Нет</td>\n",
       "      <td>5</td>\n",
       "      <td>Семья</td>\n",
       "      <td>Да</td>\n",
       "      <td>Редко</td>\n",
       "      <td>Да</td>\n",
       "      <td>Кино</td>\n",
       "      <td>77</td>\n",
       "      <td>Нет</td>\n",
       "      <td>4.944865</td>\n",
       "      <td>Желтый</td>\n",
       "      <td>Да</td>\n",
       "      <td>1</td>\n",
       "    </tr>\n",
       "    <tr>\n",
       "      <th>1</th>\n",
       "      <td>Романова Татьяна Сергеевна</td>\n",
       "      <td>I</td>\n",
       "      <td>Суши</td>\n",
       "      <td>Да</td>\n",
       "      <td>Да</td>\n",
       "      <td>Нет</td>\n",
       "      <td>3</td>\n",
       "      <td>Наука</td>\n",
       "      <td>Нет</td>\n",
       "      <td>Редко</td>\n",
       "      <td>Да</td>\n",
       "      <td>Кино</td>\n",
       "      <td>81</td>\n",
       "      <td>Нет</td>\n",
       "      <td>4.057958</td>\n",
       "      <td>Зеленый</td>\n",
       "      <td>Нет</td>\n",
       "      <td>1</td>\n",
       "    </tr>\n",
       "    <tr>\n",
       "      <th>2</th>\n",
       "      <td>Соловьева Надежда Юрьевна</td>\n",
       "      <td>III</td>\n",
       "      <td>Бургер</td>\n",
       "      <td>-</td>\n",
       "      <td>Да</td>\n",
       "      <td>Нет</td>\n",
       "      <td>0</td>\n",
       "      <td>Семья</td>\n",
       "      <td>Нет</td>\n",
       "      <td>Несколько раз в неделю</td>\n",
       "      <td>Да</td>\n",
       "      <td>Туризм</td>\n",
       "      <td>87</td>\n",
       "      <td>Нет</td>\n",
       "      <td>4.775387</td>\n",
       "      <td>Желтый</td>\n",
       "      <td>Нет</td>\n",
       "      <td>1</td>\n",
       "    </tr>\n",
       "    <tr>\n",
       "      <th>3</th>\n",
       "      <td>Смирнов Сергей Сергеевич</td>\n",
       "      <td>II</td>\n",
       "      <td>Бургер</td>\n",
       "      <td>Да</td>\n",
       "      <td>Нет</td>\n",
       "      <td>Нет</td>\n",
       "      <td>5</td>\n",
       "      <td>Семья</td>\n",
       "      <td>Да</td>\n",
       "      <td>Ежедневно</td>\n",
       "      <td>Нет</td>\n",
       "      <td>Туризм</td>\n",
       "      <td>98</td>\n",
       "      <td>Да</td>\n",
       "      <td>4.203000</td>\n",
       "      <td>Черный</td>\n",
       "      <td>Нет</td>\n",
       "      <td>0</td>\n",
       "    </tr>\n",
       "    <tr>\n",
       "      <th>4</th>\n",
       "      <td>Михайлова Дарья Алексеевна</td>\n",
       "      <td>I</td>\n",
       "      <td>Пицца</td>\n",
       "      <td>Нет</td>\n",
       "      <td>-</td>\n",
       "      <td>Да</td>\n",
       "      <td>0</td>\n",
       "      <td>Бизнес</td>\n",
       "      <td>Нет</td>\n",
       "      <td>Ежедневно</td>\n",
       "      <td>Нет</td>\n",
       "      <td>Чтение</td>\n",
       "      <td>84</td>\n",
       "      <td>Нет</td>\n",
       "      <td>4.397016</td>\n",
       "      <td>Синий</td>\n",
       "      <td>Да</td>\n",
       "      <td>0</td>\n",
       "    </tr>\n",
       "    <tr>\n",
       "      <th>...</th>\n",
       "      <td>...</td>\n",
       "      <td>...</td>\n",
       "      <td>...</td>\n",
       "      <td>...</td>\n",
       "      <td>...</td>\n",
       "      <td>...</td>\n",
       "      <td>...</td>\n",
       "      <td>...</td>\n",
       "      <td>...</td>\n",
       "      <td>...</td>\n",
       "      <td>...</td>\n",
       "      <td>...</td>\n",
       "      <td>...</td>\n",
       "      <td>...</td>\n",
       "      <td>...</td>\n",
       "      <td>...</td>\n",
       "      <td>...</td>\n",
       "      <td>...</td>\n",
       "    </tr>\n",
       "    <tr>\n",
       "      <th>9995</th>\n",
       "      <td>Козлова Алёна Сергеевна</td>\n",
       "      <td>III</td>\n",
       "      <td>Салат</td>\n",
       "      <td>Нет</td>\n",
       "      <td>Нет</td>\n",
       "      <td>Да</td>\n",
       "      <td>0</td>\n",
       "      <td>Наука</td>\n",
       "      <td>Нет</td>\n",
       "      <td>Ежедневно</td>\n",
       "      <td>Нет</td>\n",
       "      <td>Кино</td>\n",
       "      <td>53</td>\n",
       "      <td>Нет</td>\n",
       "      <td>4.105332</td>\n",
       "      <td>Желтый</td>\n",
       "      <td>Да</td>\n",
       "      <td>0</td>\n",
       "    </tr>\n",
       "    <tr>\n",
       "      <th>9996</th>\n",
       "      <td>Козлова Надежда Георгиевна</td>\n",
       "      <td>II</td>\n",
       "      <td>Бургер</td>\n",
       "      <td>Да</td>\n",
       "      <td>Нет</td>\n",
       "      <td>Нет</td>\n",
       "      <td>1</td>\n",
       "      <td>Бизнес</td>\n",
       "      <td>Нет</td>\n",
       "      <td>Редко</td>\n",
       "      <td>Нет</td>\n",
       "      <td>Кино</td>\n",
       "      <td>99</td>\n",
       "      <td>Да</td>\n",
       "      <td>4.395880</td>\n",
       "      <td>Синий</td>\n",
       "      <td>Нет</td>\n",
       "      <td>0</td>\n",
       "    </tr>\n",
       "    <tr>\n",
       "      <th>9997</th>\n",
       "      <td>Григорьева Анастасия Вячеславовна</td>\n",
       "      <td>IV</td>\n",
       "      <td>Суши</td>\n",
       "      <td>-</td>\n",
       "      <td>Да</td>\n",
       "      <td>Да</td>\n",
       "      <td>5</td>\n",
       "      <td>Бизнес</td>\n",
       "      <td>Нет</td>\n",
       "      <td>Несколько раз в неделю</td>\n",
       "      <td>Да</td>\n",
       "      <td>Туризм</td>\n",
       "      <td>60</td>\n",
       "      <td>Нет</td>\n",
       "      <td>4.880137</td>\n",
       "      <td>Черный</td>\n",
       "      <td>Нет</td>\n",
       "      <td>1</td>\n",
       "    </tr>\n",
       "    <tr>\n",
       "      <th>9998</th>\n",
       "      <td>Федорова Надежда Романовна</td>\n",
       "      <td>III</td>\n",
       "      <td>Бургер</td>\n",
       "      <td>Нет</td>\n",
       "      <td>Да</td>\n",
       "      <td>Да</td>\n",
       "      <td>1</td>\n",
       "      <td>Бизнес</td>\n",
       "      <td>Да</td>\n",
       "      <td>Ежедневно</td>\n",
       "      <td>Нет</td>\n",
       "      <td>Чтение</td>\n",
       "      <td>75</td>\n",
       "      <td>Да</td>\n",
       "      <td>4.559792</td>\n",
       "      <td>Зеленый</td>\n",
       "      <td>Да</td>\n",
       "      <td>1</td>\n",
       "    </tr>\n",
       "    <tr>\n",
       "      <th>9999</th>\n",
       "      <td>Петров Артур Вячеславович</td>\n",
       "      <td>III</td>\n",
       "      <td>Суши</td>\n",
       "      <td>Да</td>\n",
       "      <td>Да</td>\n",
       "      <td>Нет</td>\n",
       "      <td>4</td>\n",
       "      <td>Путешествия</td>\n",
       "      <td>Да</td>\n",
       "      <td>Несколько раз в неделю</td>\n",
       "      <td>Нет</td>\n",
       "      <td>Спортивные игры</td>\n",
       "      <td>83</td>\n",
       "      <td>Нет</td>\n",
       "      <td>4.043393</td>\n",
       "      <td>Красный</td>\n",
       "      <td>Нет</td>\n",
       "      <td>0</td>\n",
       "    </tr>\n",
       "  </tbody>\n",
       "</table>\n",
       "<p>10000 rows × 18 columns</p>\n",
       "</div>"
      ],
      "text/plain": [
       "                                    ФИО Группа крови Любимая еда  \\\n",
       "0        Козлова Валерия Константиновна           II      Бургер   \n",
       "1            Романова Татьяна Сергеевна            I        Суши   \n",
       "2             Соловьева Надежда Юрьевна          III      Бургер   \n",
       "3              Смирнов Сергей Сергеевич           II      Бургер   \n",
       "4            Михайлова Дарья Алексеевна            I       Пицца   \n",
       "...                                 ...          ...         ...   \n",
       "9995            Козлова Алёна Сергеевна          III       Салат   \n",
       "9996         Козлова Надежда Георгиевна           II      Бургер   \n",
       "9997  Григорьева Анастасия Вячеславовна           IV        Суши   \n",
       "9998         Федорова Надежда Романовна          III      Бургер   \n",
       "9999          Петров Артур Вячеславович          III        Суши   \n",
       "\n",
       "     Наличие публикаций Наличие золотой медали Участие в олимпиадах НИУ ВШЭ  \\\n",
       "0                    Да                      -                          Нет   \n",
       "1                    Да                     Да                          Нет   \n",
       "2                     -                     Да                          Нет   \n",
       "3                    Да                    Нет                          Нет   \n",
       "4                   Нет                      -                           Да   \n",
       "...                 ...                    ...                          ...   \n",
       "9995                Нет                    Нет                           Да   \n",
       "9996                 Да                    Нет                          Нет   \n",
       "9997                  -                     Да                           Да   \n",
       "9998                Нет                     Да                           Да   \n",
       "9999                 Да                     Да                          Нет   \n",
       "\n",
       "      Мотивационное письмо        Мечта  \\\n",
       "0                        5        Семья   \n",
       "1                        3        Наука   \n",
       "2                        0        Семья   \n",
       "3                        5        Семья   \n",
       "4                        0       Бизнес   \n",
       "...                    ...          ...   \n",
       "9995                     0        Наука   \n",
       "9996                     1       Бизнес   \n",
       "9997                     5       Бизнес   \n",
       "9998                     1       Бизнес   \n",
       "9999                     4  Путешествия   \n",
       "\n",
       "     Участие в подготовительных курсах НИУ ВШЭ        Частота прогулок  \\\n",
       "0                                           Да                   Редко   \n",
       "1                                          Нет                   Редко   \n",
       "2                                          Нет  Несколько раз в неделю   \n",
       "3                                           Да               Ежедневно   \n",
       "4                                          Нет               Ежедневно   \n",
       "...                                        ...                     ...   \n",
       "9995                                       Нет               Ежедневно   \n",
       "9996                                       Нет                   Редко   \n",
       "9997                                       Нет  Несколько раз в неделю   \n",
       "9998                                        Да               Ежедневно   \n",
       "9999                                        Да  Несколько раз в неделю   \n",
       "\n",
       "     Участие во всероссийских олимпиадах            Хобби  Средний балл ЕГЭ  \\\n",
       "0                                     Да             Кино                77   \n",
       "1                                     Да             Кино                81   \n",
       "2                                     Да           Туризм                87   \n",
       "3                                    Нет           Туризм                98   \n",
       "4                                    Нет           Чтение                84   \n",
       "...                                  ...              ...               ...   \n",
       "9995                                 Нет             Кино                53   \n",
       "9996                                 Нет             Кино                99   \n",
       "9997                                  Да           Туризм                60   \n",
       "9998                                 Нет           Чтение                75   \n",
       "9999                                 Нет  Спортивные игры                83   \n",
       "\n",
       "     Участие в волонтерской деятельности  Средний балл аттестата Любимый цвет  \\\n",
       "0                                    Нет                4.944865       Желтый   \n",
       "1                                    Нет                4.057958      Зеленый   \n",
       "2                                    Нет                4.775387       Желтый   \n",
       "3                                     Да                4.203000       Черный   \n",
       "4                                    Нет                4.397016        Синий   \n",
       "...                                  ...                     ...          ...   \n",
       "9995                                 Нет                4.105332       Желтый   \n",
       "9996                                  Да                4.395880        Синий   \n",
       "9997                                 Нет                4.880137       Черный   \n",
       "9998                                  Да                4.559792      Зеленый   \n",
       "9999                                 Нет                4.043393      Красный   \n",
       "\n",
       "     Наличие питомца  Target  \n",
       "0                 Да       1  \n",
       "1                Нет       1  \n",
       "2                Нет       1  \n",
       "3                Нет       0  \n",
       "4                 Да       0  \n",
       "...              ...     ...  \n",
       "9995              Да       0  \n",
       "9996             Нет       0  \n",
       "9997             Нет       1  \n",
       "9998              Да       1  \n",
       "9999             Нет       0  \n",
       "\n",
       "[10000 rows x 18 columns]"
      ]
     },
     "execution_count": 58,
     "metadata": {},
     "output_type": "execute_result"
    }
   ],
   "source": [
    "df = pd.read_csv(\"datasets/students.csv\") # Наши данные об учениках\n",
    "df = df.drop_duplicates()\n",
    "df"
   ]
  },
  {
   "cell_type": "markdown",
   "id": "68da2787-107e-4ceb-8420-c47b81f47acc",
   "metadata": {},
   "source": [
    "выведи первые 3 строки датасета"
   ]
  },
  {
   "cell_type": "code",
   "execution_count": 43,
   "id": "11fcc818-7601-4ba9-9793-174fcbc1f89d",
   "metadata": {},
   "outputs": [],
   "source": [
    "# твой код"
   ]
  },
  {
   "cell_type": "markdown",
   "id": "d88b15e0-b71f-41be-8280-2d363258b902",
   "metadata": {},
   "source": [
    "выведите размер датасета"
   ]
  },
  {
   "cell_type": "code",
   "execution_count": 42,
   "id": "e5d20f12-0812-4360-8c5b-b71ea8c1671a",
   "metadata": {},
   "outputs": [],
   "source": [
    "# твой код"
   ]
  },
  {
   "cell_type": "markdown",
   "id": "8cd94809-c72f-46a8-aa50-1a2d38904b7a",
   "metadata": {},
   "source": [
    "## 2.1 удаление лишних столбцов"
   ]
  },
  {
   "cell_type": "markdown",
   "id": "b33ea9cd-6eea-4342-9e67-1d139eed1444",
   "metadata": {
    "jp-MarkdownHeadingCollapsed": true
   },
   "source": [
    "для простоты возьмем в качестве признака только значение индекса массы тела. Удалим из датасета названия колонок, которые нам не понадобятся: `['sex', 'age', 'bp', 's1', 's2', 's3', 's4', 's5', 's6']`. Для этого воспользуемся методом `.drop()`"
   ]
  },
  {
   "cell_type": "code",
   "execution_count": null,
   "id": "8a7bd93b-ddfe-4c8c-922f-f9cd9614b984",
   "metadata": {},
   "outputs": [],
   "source": [
    "diabetes_df = diabetes_df.drop(columns=['sex', 'age', 'bp', 'bp', 's1', 's2', 's3', 's4', 's5', 's6'])"
   ]
  },
  {
   "cell_type": "code",
   "execution_count": 46,
   "id": "99f9054d-3ffc-49b9-b854-1fa0d08f3d89",
   "metadata": {},
   "outputs": [
    {
     "data": {
      "text/html": [
       "<div>\n",
       "<style scoped>\n",
       "    .dataframe tbody tr th:only-of-type {\n",
       "        vertical-align: middle;\n",
       "    }\n",
       "\n",
       "    .dataframe tbody tr th {\n",
       "        vertical-align: top;\n",
       "    }\n",
       "\n",
       "    .dataframe thead th {\n",
       "        text-align: right;\n",
       "    }\n",
       "</style>\n",
       "<table border=\"1\" class=\"dataframe\">\n",
       "  <thead>\n",
       "    <tr style=\"text-align: right;\">\n",
       "      <th></th>\n",
       "      <th>bmi</th>\n",
       "      <th>disease_progress</th>\n",
       "    </tr>\n",
       "  </thead>\n",
       "  <tbody>\n",
       "    <tr>\n",
       "      <th>0</th>\n",
       "      <td>32.1</td>\n",
       "      <td>151.0</td>\n",
       "    </tr>\n",
       "    <tr>\n",
       "      <th>1</th>\n",
       "      <td>21.6</td>\n",
       "      <td>75.0</td>\n",
       "    </tr>\n",
       "    <tr>\n",
       "      <th>2</th>\n",
       "      <td>30.5</td>\n",
       "      <td>141.0</td>\n",
       "    </tr>\n",
       "  </tbody>\n",
       "</table>\n",
       "</div>"
      ],
      "text/plain": [
       "    bmi  disease_progress\n",
       "0  32.1             151.0\n",
       "1  21.6              75.0\n",
       "2  30.5             141.0"
      ]
     },
     "execution_count": 46,
     "metadata": {},
     "output_type": "execute_result"
    }
   ],
   "source": [
    "diabetes_df.head(3) # в таблице есть только столбцы bmi и disease_progress"
   ]
  },
  {
   "cell_type": "code",
   "execution_count": 18,
   "id": "5cce8b2c-02de-49e9-89f3-c622defffd12",
   "metadata": {},
   "outputs": [
    {
     "data": {
      "text/plain": [
       "(442, 2)"
      ]
     },
     "execution_count": 18,
     "metadata": {},
     "output_type": "execute_result"
    }
   ],
   "source": [
    "diabetes_df.shape # Таблица содержит 442 строки и 2 колонки."
   ]
  },
  {
   "cell_type": "markdown",
   "id": "5cfdcb01-296c-4ef3-80e7-b054e635327d",
   "metadata": {},
   "source": [
    "## 2.2 задание"
   ]
  },
  {
   "cell_type": "markdown",
   "id": "6c46a3d5-8978-4f12-929d-a160d3d6e3de",
   "metadata": {},
   "source": [
    "В наших данных есть признаки, не влияющие на ответ. Мы предполагаем, что для текущей модели можем исключить их из анализа. \n",
    "\n",
    "Удали эти признаки из выборки и сохрани результат в переменную `df`. Выведи первые строки и размерность получившейся таблицы."
   ]
  },
  {
   "cell_type": "code",
   "execution_count": 47,
   "id": "95c23665-50c6-47fc-b5b5-42ab53f7502b",
   "metadata": {},
   "outputs": [],
   "source": [
    "# твой код"
   ]
  },
  {
   "cell_type": "code",
   "execution_count": 48,
   "id": "ca05a7fc-f7b4-4be1-97cb-d0fd613349f0",
   "metadata": {},
   "outputs": [],
   "source": [
    "# твой код"
   ]
  },
  {
   "cell_type": "code",
   "execution_count": 49,
   "id": "4ba9944c-b580-4529-b5f5-2119424d7399",
   "metadata": {},
   "outputs": [],
   "source": [
    "# твой код"
   ]
  },
  {
   "cell_type": "markdown",
   "id": "883763f1-4abc-4981-a5d9-66e13581d78e",
   "metadata": {},
   "source": [
    "## 3.1 разделение данных на входные и выходные"
   ]
  },
  {
   "cell_type": "markdown",
   "id": "8e6173f7-f910-4c39-8852-9cfc9e30f4fc",
   "metadata": {},
   "source": [
    "для корректной рабты нейросети необходимо разделить данные на входные (те, по которым предсказываем) и на выходные (то, что мы предсказываем).\n",
    "часто входные данные обозначаются как X, выходные - как Y.\n",
    "\n",
    "для задачи предсказания уровня диабета колонка `disease_progress` будет являться Y, а значения `bmi` — признаком Х."
   ]
  },
  {
   "cell_type": "code",
   "execution_count": 29,
   "id": "ba0d0937-44a2-40ed-b108-1f11717294cb",
   "metadata": {},
   "outputs": [],
   "source": [
    "X_diabet = diabetes_df[['bmi']]\n",
    "Y_diabet = diabetes_df['disease_progress']"
   ]
  },
  {
   "cell_type": "markdown",
   "id": "08056bbd-de26-410e-9531-9e471acc0b1b",
   "metadata": {},
   "source": [
    "## 3.2 задание"
   ]
  },
  {
   "cell_type": "markdown",
   "id": "eab5ee68-a97f-4e7b-9f74-3a5a2ca9c8c9",
   "metadata": {},
   "source": [
    "раздели данные на входные и выходные. Запиши их в переменные `X` и `Y` соответственно. Выходными данными в данном случае являются значения столбца `Target`, входными - все остальные"
   ]
  },
  {
   "cell_type": "code",
   "execution_count": 50,
   "id": "d11736bd-2120-4af4-864e-ccafd078302b",
   "metadata": {},
   "outputs": [],
   "source": [
    "# твой код"
   ]
  },
  {
   "cell_type": "markdown",
   "id": "a5dbfbcb-dc61-47c9-85e0-9fdb8ade4392",
   "metadata": {},
   "source": [
    "## 4.1 стандартизация данных"
   ]
  },
  {
   "cell_type": "markdown",
   "id": "e08d2ff4-9745-43fa-9a54-8c85cbb11d86",
   "metadata": {},
   "source": [
    "стандартизация численных признаков датасета необходима для приведения всех значений к единому масштабу, что обеспечивает сопоставимость данных, улучшает стабильность и скорость моделей, а также способствует более точному и эффективному обучению алгоритмов."
   ]
  },
  {
   "cell_type": "code",
   "execution_count": 51,
   "id": "287bae08-a4f7-488f-ae50-9a69ed750aa1",
   "metadata": {},
   "outputs": [
    {
     "data": {
      "image/png": "[encoded data removed]",
      "text/plain": [
       "<Figure size 640x480 with 1 Axes>"
      ]
     },
     "metadata": {},
     "output_type": "display_data"
    }
   ],
   "source": [
    "X_diabet.plot.hist();"
   ]
  },
  {
   "cell_type": "code",
   "execution_count": 52,
   "id": "9b71cf76-f2ae-4b94-9ec0-3b9fafa1bddd",
   "metadata": {},
   "outputs": [],
   "source": [
    "from sklearn.preprocessing import StandardScaler"
   ]
  },
  {
   "cell_type": "code",
   "execution_count": 53,
   "id": "30efc8b6-af69-41ad-8d1d-519099e2c327",
   "metadata": {},
   "outputs": [],
   "source": [
    "scaler = StandardScaler()\n",
    "X_diabet = pd.DataFrame(scaler.fit_transform(X_diabet), columns=X_diabet.columns, index=X_diabet.index)"
   ]
  },
  {
   "cell_type": "code",
   "execution_count": 54,
   "id": "283d9286-99f8-4800-8f0e-9f6f2b358725",
   "metadata": {},
   "outputs": [
    {
     "data": {
      "image/png": "[encoded data removed]",
      "text/plain": [
       "<Figure size 640x480 with 1 Axes>"
      ]
     },
     "metadata": {},
     "output_type": "display_data"
    }
   ],
   "source": [
    "X_diabet.plot.hist(); "
   ]
  },
  {
   "cell_type": "markdown",
   "id": "848fa6b2-a470-425f-a4df-d838b292b7c3",
   "metadata": {},
   "source": [
    "## 4.2 задание"
   ]
  },
  {
   "cell_type": "markdown",
   "id": "a160dda1-a250-4dc2-8241-83ea28d85621",
   "metadata": {},
   "source": [
    "в датасете ты можешь увидеть, что некоторые столбцы содержат значения да/нет. Но нейросеть может работать только с числовыми данными. Необходимо все значения `да` заменить на `1`, а значения `нет` - на `0`. Также заменим пропуски ( `-` ) на `0`"
   ]
  },
  {
   "cell_type": "code",
   "execution_count": 55,
   "id": "befdc187-8cdc-4da3-be46-07072535b6fe",
   "metadata": {},
   "outputs": [],
   "source": [
    "X = X.replace({'Да': 1, 'Нет': 0, '-': 0})"
   ]
  },
  {
   "cell_type": "markdown",
   "id": "41fbbd9c-5ff6-4ea2-b5b3-59d5683b116d",
   "metadata": {},
   "source": [
    "стандартизируйте входные данные и запишите их в переменную `X`"
   ]
  },
  {
   "cell_type": "code",
   "execution_count": 56,
   "id": "4bfaace7-0e0c-4a0b-8c4c-b3e269b550c3",
   "metadata": {},
   "outputs": [],
   "source": [
    "# твой код"
   ]
  },
  {
   "cell_type": "code",
   "execution_count": 57,
   "id": "9f2d0eb8-d8d8-41a5-9200-7702a252301f",
   "metadata": {},
   "outputs": [],
   "source": [
    "# твой код"
   ]
  },
  {
   "cell_type": "markdown",
   "id": "8fee40f4-6262-4080-b1ee-e6b82d9cbada",
   "metadata": {},
   "source": [
    "## 5.1 разделение данных на обучающие и тестовые"
   ]
  },
  {
   "cell_type": "markdown",
   "id": "cdb079d0-1049-4c0e-8ac2-c42c1e2ba3b4",
   "metadata": {},
   "source": [
    "суть разделения данных на обучающие и тестовые заключается в том, чтобы использовать обучающие данные для настройки и обучения модели, а тестовые данные — для независимой оценки качества и точности этой модели, что позволяет убедиться в её способности обобщать на новых, ранее не встречавшихся данных."
   ]
  },
  {
   "cell_type": "code",
   "execution_count": 35,
   "id": "7dadaeb5-0998-4866-89ff-7fb24fa9dca5",
   "metadata": {},
   "outputs": [],
   "source": [
    "from sklearn.model_selection import train_test_split"
   ]
  },
  {
   "cell_type": "code",
   "execution_count": 67,
   "id": "727ccf9e-9b55-40e6-b96c-c4c8f72cc0ca",
   "metadata": {},
   "outputs": [],
   "source": [
    "X_train_diabet, X_test_diabet, y_train_diabet, y_test_diabet = train_test_split(\n",
    "    X_diabet, Y_diabet, test_size=0.2, random_state=21\n",
    ")"
   ]
  },
  {
   "cell_type": "code",
   "execution_count": 68,
   "id": "009fa436-872a-41ba-8ae3-14e0ce2eca67",
   "metadata": {},
   "outputs": [
    {
     "data": {
      "text/plain": [
       "(353, 1)"
      ]
     },
     "execution_count": 68,
     "metadata": {},
     "output_type": "execute_result"
    }
   ],
   "source": [
    "X_train_diabet.shape"
   ]
  },
  {
   "cell_type": "code",
   "execution_count": 69,
   "id": "d2c6f19f-4b75-45c1-b442-fdaa3a530d04",
   "metadata": {},
   "outputs": [
    {
     "data": {
      "text/plain": [
       "(89, 1)"
      ]
     },
     "execution_count": 69,
     "metadata": {},
     "output_type": "execute_result"
    }
   ],
   "source": [
    "X_test_diabet.shape"
   ]
  },
  {
   "cell_type": "markdown",
   "id": "369acde5-01cd-41b6-b11b-453574495bac",
   "metadata": {},
   "source": [
    "## 5.2 задание"
   ]
  },
  {
   "cell_type": "markdown",
   "id": "d0efca6b-7679-4bd2-af19-ff9532b0c61f",
   "metadata": {},
   "source": [
    "Раздели итоговый датасет по ученикам на train и test выборки. Разделение проведи с параметрами `test_size=0.2`, `random_state=21`. \n",
    "Выведи размерности переменных `X_train` и `X_test`. **Важно: не забудь, что необходимо использовать стандартизированные данные**"
   ]
  },
  {
   "cell_type": "code",
   "execution_count": 89,
   "id": "69ccc745-c0f2-46df-b643-2be95fc4bcbe",
   "metadata": {},
   "outputs": [],
   "source": [
    "# твой код"
   ]
  },
  {
   "cell_type": "code",
   "execution_count": null,
   "id": "c6e59fa7-0df9-4fe3-9690-2e00e3d41747",
   "metadata": {},
   "outputs": [],
   "source": [
    "# твой код"
   ]
  },
  {
   "cell_type": "code",
   "execution_count": null,
   "id": "07d2a8c3-38b3-496b-bb18-a872f5b515cd",
   "metadata": {},
   "outputs": [],
   "source": [
    "# твой код"
   ]
  },
  {
   "cell_type": "code",
   "execution_count": null,
   "id": "0530c3e1-d4ba-4bfb-bd45-94fe26cc9235",
   "metadata": {},
   "outputs": [],
   "source": [
    "# твой код"
   ]
  },
  {
   "cell_type": "markdown",
   "id": "1aad1af5-b150-4226-ad69-d3c13510c688",
   "metadata": {},
   "source": [
    "## 6.1 линейная и логистическая регрессии"
   ]
  },
  {
   "cell_type": "markdown",
   "id": "c08d7194-ab00-4281-8be4-08e05798345c",
   "metadata": {},
   "source": [
    "Линейная регрессия — это метод, который помогает предсказывать результаты на основе данных. Представь, что у тебя есть информация о том, сколько времени ты тратишь на подготовку к урокам и какие оценки ты получаешь. С помощью линейной регрессии можно построить прямую линию, которая покажет, как твои оценки зависят от времени подготовки.\n",
    "\n",
    "Логистическая регрессия — это инструмент, который помогает предсказать вероятность какого-то события. Например, если мы хотим узнать, заплатит ли человек по кредиту или нет, логистическая регрессия поможет нам оценить, насколько вероятно, что он вернёт деньги. Она работает так: мы берём разные факторы, которые могут повлиять на событие (например, доход человека, его возраст и т. д.), и используем их, чтобы рассчитать вероятность. Результат логистической регрессии — это число между 0 и 1, которое показывает, насколько вероятно событие. Если результат близок к 1, событие скорее всего произойдёт, а если к 0 — вряд ли.\n",
    "\n",
    "В библиотеке sklearn уже есть готовая реализация алгоритмов `LinearRegression` и `LogisticRegression`."
   ]
  },
  {
   "cell_type": "code",
   "execution_count": 79,
   "id": "27382dd6-ca8d-46ed-8b96-839f540c59a9",
   "metadata": {},
   "outputs": [],
   "source": [
    "from sklearn.metrics import mean_absolute_error\n",
    "from sklearn.linear_model import LinearRegression"
   ]
  },
  {
   "cell_type": "code",
   "execution_count": 80,
   "id": "e88db0b5-1d3d-4338-beb1-1ff9458347b8",
   "metadata": {},
   "outputs": [],
   "source": [
    "clf_diabet = LinearRegression().fit(X_train_diabet, y_train_diabet) # Обучим модель."
   ]
  },
  {
   "cell_type": "code",
   "execution_count": 81,
   "id": "70b05149-6bd3-4e62-9d67-83c1c16b6f40",
   "metadata": {},
   "outputs": [],
   "source": [
    "pred_diabet = clf_diabet.predict(X_test_diabet) # Делаем предсказание модели на тестовой выборке."
   ]
  },
  {
   "cell_type": "code",
   "execution_count": 82,
   "id": "6c936f0d-3ae5-4a91-98be-525b3741f472",
   "metadata": {},
   "outputs": [
    {
     "data": {
      "text/plain": [
       "54.25072743096797"
      ]
     },
     "execution_count": 82,
     "metadata": {},
     "output_type": "execute_result"
    }
   ],
   "source": [
    "mean_absolute_error(pred_diabet, y_test_diabet) "
   ]
  },
  {
   "cell_type": "markdown",
   "id": "5ec90d11-48f4-45cf-acab-49905ba826fd",
   "metadata": {},
   "source": [
    "## 6.2 задание"
   ]
  },
  {
   "cell_type": "markdown",
   "id": "dd139cca-5ff4-43b4-b974-4de219be282a",
   "metadata": {},
   "source": [
    "обучи модель предсказывать, поступит ли человек в вуз. Используй метод логистической регрессии (`LogisticRegression`). Выведи конечную точность модели с помощью `mean_absolute_error`"
   ]
  },
  {
   "cell_type": "code",
   "execution_count": null,
   "id": "d90747de-3a85-4878-b9e9-9e483e52bfa9",
   "metadata": {},
   "outputs": [],
   "source": [
    "# ваш код"
   ]
  },
  {
   "cell_type": "code",
   "execution_count": null,
   "id": "9f100fd8-dcec-4f52-83a7-c2331133105e",
   "metadata": {},
   "outputs": [],
   "source": [
    "# ваш код"
   ]
  },
  {
   "cell_type": "code",
   "execution_count": null,
   "id": "c96289db-349e-46ef-80d6-d6a9e7614cc5",
   "metadata": {},
   "outputs": [],
   "source": [
    "# ваш код"
   ]
  },
  {
   "cell_type": "code",
   "execution_count": null,
   "id": "5c734ee2-4097-41fc-a824-a3c0a49216e3",
   "metadata": {},
   "outputs": [],
   "source": [
    "# ваш код"
   ]
  },
  {
   "cell_type": "code",
   "execution_count": null,
   "id": "fc010c63-7752-431b-8395-1b9051d548ee",
   "metadata": {},
   "outputs": [],
   "source": [
    "# ваш код"
   ]
  },
  {
   "cell_type": "code",
   "execution_count": null,
   "id": "b65bd4de-7a7f-4de8-b217-9855be7b638a",
   "metadata": {},
   "outputs": [],
   "source": [
    "# ваш код"
   ]
  },
  {
   "cell_type": "code",
   "execution_count": null,
   "id": "d1320d92-c906-4308-ab7e-292e0ff8cd0b",
   "metadata": {},
   "outputs": [],
   "source": [
    "# ваш код"
   ]
  }
 ],
 "metadata": {
  "kernelspec": {
   "display_name": "Python 3 (ipykernel)",
   "language": "python",
   "name": "python3"
  },
  "language_info": {
   "codemirror_mode": {
    "name": "ipython",
    "version": 3
   },
   "file_extension": ".py",
   "mimetype": "text/x-python",
   "name": "python",
   "nbconvert_exporter": "python",
   "pygments_lexer": "ipython3",
   "version": "3.12.3"
  }
 },
 "nbformat": 4,
 "nbformat_minor": 5
}
