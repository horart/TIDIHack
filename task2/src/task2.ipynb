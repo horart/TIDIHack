{
 "cells": [
  {
   "cell_type": "markdown",
   "metadata": {
    "vscode": {
     "languageId": "plaintext"
    }
   },
   "source": [
    "# Задание 2"
   ]
  },
  {
   "cell_type": "markdown",
   "metadata": {},
   "source": [
    "Познакомимся с обработкой естественного языка (NLP).\n",
    "\n",
    "Существует множество подходов к использованию искусственного интеллекта для NLP, один из них - TFIDF.\n",
    "\n",
    "TFIDF - это способ кодирования текста, в котором определяется кол-во вхождений слова в документ, и на основе этих данных мы можем запустить классификатор."
   ]
  },
  {
   "cell_type": "markdown",
   "metadata": {},
   "source": [
    "### Импорты"
   ]
  },
  {
   "cell_type": "code",
   "execution_count": 1,
   "metadata": {},
   "outputs": [
    {
     "name": "stdout",
     "output_type": "stream",
     "text": [
      "Requirement already satisfied: scikit-learn in /home/horart/dev/TIDIHack/.venv/lib/python3.12/site-packages (1.6.0)\n",
      "Requirement already satisfied: pandas in /home/horart/dev/TIDIHack/.venv/lib/python3.12/site-packages (2.2.3)\n",
      "Requirement already satisfied: nltk in /home/horart/dev/TIDIHack/.venv/lib/python3.12/site-packages (3.9.1)\n",
      "Requirement already satisfied: numpy>=1.19.5 in /home/horart/dev/TIDIHack/.venv/lib/python3.12/site-packages (from scikit-learn) (1.26.4)\n",
      "Requirement already satisfied: scipy>=1.6.0 in /home/horart/dev/TIDIHack/.venv/lib/python3.12/site-packages (from scikit-learn) (1.14.1)\n",
      "Requirement already satisfied: joblib>=1.2.0 in /home/horart/dev/TIDIHack/.venv/lib/python3.12/site-packages (from scikit-learn) (1.4.2)\n",
      "Requirement already satisfied: threadpoolctl>=3.1.0 in /home/horart/dev/TIDIHack/.venv/lib/python3.12/site-packages (from scikit-learn) (3.5.0)\n",
      "Requirement already satisfied: python-dateutil>=2.8.2 in /home/horart/dev/TIDIHack/.venv/lib/python3.12/site-packages (from pandas) (2.9.0.post0)\n",
      "Requirement already satisfied: pytz>=2020.1 in /home/horart/dev/TIDIHack/.venv/lib/python3.12/site-packages (from pandas) (2024.2)\n",
      "Requirement already satisfied: tzdata>=2022.7 in /home/horart/dev/TIDIHack/.venv/lib/python3.12/site-packages (from pandas) (2024.2)\n",
      "Requirement already satisfied: click in /home/horart/dev/TIDIHack/.venv/lib/python3.12/site-packages (from nltk) (8.1.8)\n",
      "Requirement already satisfied: regex>=2021.8.3 in /home/horart/dev/TIDIHack/.venv/lib/python3.12/site-packages (from nltk) (2024.11.6)\n",
      "Requirement already satisfied: tqdm in /home/horart/dev/TIDIHack/.venv/lib/python3.12/site-packages (from nltk) (4.67.1)\n",
      "Requirement already satisfied: six>=1.5 in /home/horart/dev/TIDIHack/.venv/lib/python3.12/site-packages (from python-dateutil>=2.8.2->pandas) (1.17.0)\n"
     ]
    }
   ],
   "source": [
    "! pip install scikit-learn pandas nltk"
   ]
  },
  {
   "cell_type": "code",
   "execution_count": 2,
   "metadata": {},
   "outputs": [],
   "source": [
    "from sklearn.feature_extraction.text import TfidfVectorizer\n",
    "from sklearn.model_selection import train_test_split\n",
    "from sklearn.svm import SVC\n",
    "from sklearn.metrics import accuracy_score, classification_report\n",
    "import pandas as pd\n",
    "import nltk\n",
    "nltk.download('stopwords')"
   ]
  },
  {
   "cell_type": "markdown",
   "metadata": {},
   "source": [
    "## Загрузим данные из встроенного датасета scikit для примера"
   ]
  },
  {
   "cell_type": "markdown",
   "metadata": {},
   "source": [
    "Мы хотим классифицировать тексты, как связанные с бейсболом или с космосом. Загрузим их из встроенных датасетов sklearn. Также можно подгрузить данные в pandas для csv"
   ]
  },
  {
   "cell_type": "code",
   "execution_count": 3,
   "metadata": {},
   "outputs": [],
   "source": [
    "from sklearn.datasets import fetch_20newsgroups\n",
    "\n",
    "newsgroups = fetch_20newsgroups(subset='all', categories=['rec.sport.baseball', 'sci.space'], shuffle=True, random_state=42)"
   ]
  },
  {
   "cell_type": "code",
   "execution_count": 4,
   "metadata": {},
   "outputs": [
    {
     "data": {
      "text/plain": [
       "['From: mss@netcom.com (Mark Singer)\\nSubject: Re: Young Catchers\\nArticle-I.D.: netcom.mssC52qMx.768\\nOrganization: Netcom Online Communications Services (408-241-9760 login: guest)\\nLines: 86\\n\\nIn article <7975@blue.cis.pitt.edu> genetic+@pitt.edu (David M. Tate) writes:\\n>mss@netcom.com (Mark Singer) said:\\n>>\\n>>We know that very, very few players at this age make much of an impact\\n>>in the bigs, especially when they haven\\'t even played AAA ball.  \\n>\\n>Yes.  But this is *irrelevant*.  You\\'re talking about averages, when we\\n>have lots of information about THIS PLAYER IN PARTICULAR to base our\\n>decisions on.\\n\\nDo you really have *that* much information on him?  Really?\\n\\n>Why isn\\'t Lopez likely to hit that well?  He hit that well last year (after\\n>adjusting his stats for park and league and such); he hit better (on an\\n>absolute scale) than Olson or Berryhill did.  By a lot.\\n\\nI don\\'t know.  You tell me.  What percentage of players reach or \\nexceed their MLE\\'s *in their rookie season*?  We\\'re talking about\\n1993, you know.\\n\\n>\\n>As for rushing...  If there really is a qualitative difference between the\\n>minors and the majors that requires a period of adjustment (and I don\\'t\\n>believe there is), then wouldn\\'t you rather waste Lopez\\'s 22-year old good\\n>season than his 23-year old very good season or his 24-year-old excellent\\n>season?  The sooner you get him acclimated, the more of his prime you get to\\n>use.\\n\\nIf that were your purpose, maybe.  Offerman spent 1992 getting \\nacclimated, if you will.  The Dodgers as a team paid a big price\\nthat season.  Perhaps they will reap the benefits down the road.\\nDo you really think they would have done what they did if they\\nwere competing for a pennant?\\n\\n>\\n>>>Lopez was hitting .588 over 17 AB when he was cut from spring\\n>>>training.  What does he have to do to earn a chance?  Maybe not a full\\n>>>time job, but at least a couple starts and a few AB for him to prove\\n>>>his worth?\\n>>\\n>The point was not that 17 AB is a significant sample, but rather that he\\n>hadn\\'t done anything in spring training to cause even a blockhead manager\\n>to question whether his minor league numbers were for real, or to send him\\n>down \"until he gets warmed up\".\\n\\nFor a stat-head, I\\'m amazed that you put any credence in spring\\ntraining.  Did you notice who he got those 10 (!) hits off of, or\\nare you going to tell me that it doesn\\'t make a difference?\\n\\n>>The kid *will* improve playing at AAA, \\n>\\n>Just like Keith Mitchell did?\\n\\nWait a minute.  I missed something here.  First, forget Keith\\nMitchell.  Are you saying that a kid who moves from AA to AAA\\nand then does not improve would have been better off making a\\ndirect leap to the majors?  If a player does well at AA and then\\ndoes not improve at AAA, isn\\'t that a sign that maybe he doesn\\'t\\nbelong in the bigs?\\n\\nNow, Keith Mitchell.  As I recall (no stat books handy - surprise!)\\nhe jumped from AA to Atlanta in 1991.  He did so well that he was\\nreturned to the minors, where he didn\\'t do very well at all.  Now\\nhis career is in jeopardy.  So how does he fit in with your \\npoint.  Good MLE\\'s in AA.  Moved him right to the big club.  Now\\nhe\\'s one step away from being traded or moved out of baseball.\\nDuh.\\n\\n\\n>That was me, and you so far your only counter-proposal is that they\\n>really don\\'t understand how good Lopez is, or overvalue experience,\\n>or some combination of the two.  I think my interpretation was more\\n>flattering to the organization.\\n\\nWell, I\\'ve cast my lot.  Certainly you may understand better how \\ngood Lopez is.  And I may overvalue experience.  But neither one\\nof us runs a baseball team.\\n\\n\\n\\n--\\tThe Beastmaster\\n\\n\\n-- \\nMark Singer    \\nmss@netcom.com\\n',\n",
       " \"From: cuz@chaos.cs.brandeis.edu (Cousin It)\\nSubject: Re: HBP? BB? BIG-CAT?\\nOrganization: Who Knows\\nLines: 14\\n\\nstevet@eskimo.com (Steven Thornton) writes:\\n\\n|The official MLB formula for OBP is (hits plus walks plus hit-by-pitch)\\n|divided by (at-bats plus walks plus hit-by-pitch plus sacrifice flies).\\n|Sac bunts and errors have no effect. Source: Total Baseball (and they\\n               ^^^^^^\\n\\n\\tSure they might. If an error is recorded on, for example, a\\nground ball, ie the batter would otherwise be out, it is officially a\\nhitless at bat. If it's some other type of error (Greenwell lets a\\nsingle go by), it doesn't effect the OBP. But, most errors are\\ncounted.\\n\\n-Cuz\\n\",\n",
       " 'From: J019800@LMSC5.IS.LMSC.LOCKHEED.COM\\nSubject: re: candlestick\\nOrganization: Lockheed Missiles & Space Company, Inc.\\nLines: 40\\n\\n------------------------- Original Article -------------------------\\nNewsgroups: rec.sport.baseball\\nPath: butch!netcomsv!netcom.com!csus.edu!wupost!uwm.edu!zaphod.mps.ohio-state.ed\\nFrom: scunning@louven.berkeley.edu (Sean Cunningham)\\nSubject: Candlestick\\nMessage-ID: <1993Apr21.041620.27894@pasteur.Berkeley.EDU>\\nSender: nntp@pasteur.Berkeley.EDU (NNTP Poster)\\nNntp-Posting-Host: louven.berkeley.edu\\nOrganization: University of California, Berkeley\\nDate: Wed, 21 Apr 1993 04:16:20 GMT\\nLines: 24\\n\\nHey folks,\\n\\nSaw the Giants play ball at the \\'Stick Saturday, April 17.  It was the game\\nwhere Pendelton broke up the scoreless tie in the ninth with a two-out,\\ntwo-run homer to right to win it.  (It wasn\\'t the game where the fans\\nthrew the give-away \"fotoballs\" onto the field in response to the homer --\\ntoo bad, huh?)\\n\\nWell, the \\'Stick is still cold.  The Saturday game ended at 5:45pm, and it\\nwas cold then.  I can\\'t imagine night games in April at the \\'Stick.  The\\nwind kicked up a little, too, and I got this idea.\\n\\nAt most games, there\\'s a pile of hot dog wrappers and cups and trash on\\nthe field a lot of the time.  I propose a Kid\\'s Clean-up Corps composed\\nmainly of 10-12 year old kids who would love nothing better than to run\\nout on the field in the fifth inning (when the guy in the Toro smooths\\nthe infield) and grab the trash.\\n\\nIt might not be glamorous, but at that age I probably would have given\\nanything to be on the field with the ballplayers.  Everybody wins here!\\n\\nWhaddaya think?\\n\\nSean\\n*************************\\ni was at opening day. the stadium and new owners were great!!! i pick candlesti\\nck anytime over the giants playing out of state. i only wish the buttheads in\\nsan jose had enough balls to vote for a stadium here!\\n',\n",
       " 'From: tedward@cs.cornell.edu (Edward [Ted] Fischer)\\nSubject: Re: Pleasant Yankee Surprises\\nOrganization: Cornell Univ. CS Dept, Ithaca NY 14853\\nLines: 45\\n\\nIn article <mssC5K4GI.G64@netcom.com> mss@netcom.com (Mark Singer) writes:\\n>\\n>I don\\'t have a history handy, but I don\\'t recall that the preponderance\\n>of ROY\\'s come from winning teams.  In fact, I think team performance is\\n>generally irrelevant, as almost always the most deserving candidate wins.\\n>Am I wrong?\\n\\nNot really, though I wouldn\\'t personally say \"the most deserving\\ncandidate wins\".  Rarely does a player win ROY when called up in mid\\nseason, and there have been several duds in recent years.  But this is\\nmore a factor of mediot biases than anything else.  (I wonder.  If\\nAmaral hits like he is capable of, will he receive ROTY votes?  He\\'s\\nonly 31, he could have a long career ahead of him!  :-)\\n\\n>And he is not necessarily on a losing team.  While the Angels\\' staff\\n>is still very weak, their everyday lineup is doing quite well, thank\\n>you.  Snow is playing great.  Salmon is learning to make the adjustments.\\n>Easley appears fine, but even if he\\'s not Flora is ready to come up.\\n>Between Gonzales and Gruber they\\'ll manage the hot corner.  Polonia\\n>and Curtis are steady and heady.  Even Myers and Orton are contributing.\\n>\\n>Personally, I think they can finish over .500 which makes them a \\n>winning team.\\n\\nI think they are a second-division team.  They should finish ahead of\\nthe Royals, Mariners, and *possibly* Athletics.  But I don\\'t think\\nthey\\'ll be above .500.  (I think the East is stronger this year.)\\n\\nLast year their pitching was bad and their offense was horrible.  This\\nyear their offense is better, but their pitching is still pretty bad.\\nEven if Finley returns to form, he won\\'t replace what they lost in\\nAbbott.  Sanderson?  Farrell?  I don\\'t believe it.\\n\\nAnd while their BA may be good, and they have decent speed, their\\noffense lacks punch.  They don\\'t have any bona fide power hitters.\\n(Salmon, Snow, Davis, and Curtis?  None with more than 20 HR\\npotential.)\\n\\nCheers,\\n-Valentine\\n\\nP.S. Which AL team had the most steals last week?  Those go-go Tigers!\\nThe mediots finally managed to convince them that they needed \"more\\nbalance\" in their lineup.  You see, they were scoring too many runs\\ntoo consistently.  Gotta run more to break that up.\\n',\n",
       " 'From: snichols@adobe.com (Sherri Nichols)\\nSubject: Re: Young Catchers\\nOrganization: Adobe Systems Incorporated\\nLines: 38\\n\\nIn article <7975@blue.cis.pitt.edu> genetic+@pitt.edu (David M. Tate) writes:\\n>As for rushing...  If there really is a qualitative difference between the\\n>minors and the majors that requires a period of adjustment (and I don\\'t\\n>believe there is), then wouldn\\'t you rather waste Lopez\\'s 22-year old good\\n>season than his 23-year old very good season or his 24-year-old excellent\\n>season?  The sooner you get him acclimated, the more of his prime you get to\\n>use.\\n\\nCan anybody name a player who was \\'rushed\\' to the majors (let\\'s, for\\nargument\\'s sake, define \"rushed\" as brought up to the majors for more than\\na cup of coffee prior at age 22 or younger, and performing below\\nexpectations), whose career was damaged by this rushing?  I\\'m serious; I\\ntend to agree with David that bringing the player up sooner is better, but\\nI\\'d like to look at players for whom this theory didn\\'t work, if there are\\nany.  I\\'d prefer players within the last 10 years or so, because then I can\\nlook up their minor league stats.  (It\\'s important to distinguish between\\nplayers who legitimately had careers below what their minor league numbers\\nwould have projected, as opposed to players who were hyped and failed, but\\nactually had careers not out of line with their minor league numbers).  \\n\\nLet\\'s kick it off with an example of a player who was \"rushed\", although\\nthere doesn\\'t seem to have been any damage to his career.  Jay Bell was\\ngiven 135 PAs in the major leagues at age 21, and performed well below what\\nyou would expect from his AAA numbers the same season.  He got 236 PAs the\\nnext year at age 22, and still underperformed.  However, the next year, at\\nage 24, his performance improved, and he won the everyday shortstop job,\\nand has been there ever since.  It\\'s really hard for me to see where he\\nwould have been better off staying in the minor league (where he was\\nperformed quite well in AAA) during this time, rather than being \"rushed\";\\nCleveland might have been better off, I suppose, because they might have\\nbeen less likely to give up on him.\\n\\nYes, if you bring a player up early, he\\'s likely going to struggle.  But\\ndoes that delay the time at which he stops struggling, and starts\\nperforming up to expectations?\\n\\nSherri Nichols\\nsnichols@adobe.com\\n',\n",
       " 'From: hoover@mathematik.uni-bielefeld.de (Uwe Schuerkamp)\\nSubject: Re: Vandalizing the sky.\\nNntp-Posting-Host: math30.mathematik.uni-bielefeld.de\\nOrganization: Math Madhouse Bielefeld, Germany\\nLines: 26\\n\\nIn article <C5t05K.DB6@research.canon.oz.au> enzo@research.canon.oz.au \\n(Enzo Liguori) writes:\\n\\n> hideous vision of the future.  Observers were\\n>startled this spring when a NASA launch vehicle arrived at the\\n>pad with \"SCHWARZENEGGER\" painted in huge block letters on the\\n\\nThis is ok in my opinion as long as the stuff *returns to earth*.\\n\\n>What do you think of this revolting and hideous attempt to vandalize\\n>the night sky? It is not even April 1 anymore.\\n\\nIf this turns out to be true, it\\'s time to get seriously active in\\nterrorism. This is unbelievable! Who do those people think they are,\\nselling every bit that promises to make money? I guess we really\\ndeserve being wiped out by uv radiation, folks. \"Stupidity wins\". I\\nguess that\\'s true, and if only by pure numbers.\\n\\n\\tAnother depressed planetary citizen,\\n\\thoover\\n\\n\\n\\n-- \\nUwe \"Hoover\" Schuerkamp \\t\\t     hoover@mathematik.uni-bielefeld.de\\n\\t\\tClear Skies --- Fight light pollution!\\n',\n",
       " \"From: addison@leland.Stanford.EDU (Brett Rogers)\\nSubject: Re: Defensive Averages 1988-1992 -- Shortstop\\nOrganization: DSG, Stanford University, CA 94305, USA\\nLines: 12\\n\\nIn article <steph.735027990@pegasus.cs.uiuc.edu> steph@pegasus.cs.uiuc.edu (Dale Stephenson) writes:\\n>>Smith, Ozzie           .742  .717  .697  .672  .664   0.701\\n>  The Wizard's 1988 is the second highest year ever.  Still very good,\\n>but I don't like the way his numbers have declined every year.  In a few\\n>years may be a defensive liability.\\n\\nThat's rich... Ozzie Smith a defensive liability...\\n\\nBrett Rogers\\naddison@leland.stanford.edu\\n\\n\\n\",\n",
       " 'From: gary@ke4zv.uucp (Gary Coffman)\\nSubject: Re: What if the USSR had reached the Moon first?\\nReply-To: gary@ke4zv.UUCP (Gary Coffman)\\nOrganization: Destructive Testing Systems\\nLines: 38\\n\\nIn article <C5qIv3.H0o.1@cs.cmu.edu> nickh@CS.CMU.EDU (Nick Haines) writes:\\n>In article <1993Apr18.091051.14496@ke4zv.uucp> gary@ke4zv.uucp (Gary Coffman) writes:\\n>   If I read you right, you\\'re saying in essence that, with a larger\\n>   economy, nations will have more discretionary funds to *waste* on a\\n>   lunar facility. That was certainly partially the case with Apollo,\\n>   but real Lunar colonies will probably require a continuing\\n>   military, scientific, or commercial reason for being rather than\\n>   just a \"we have the money, why not?\" approach.\\n>\\n>Ah, but the whole point is that money spent on a lunar base is not\\n>wasted on the moon. It\\'s not like they\\'d be using $1000 (1000R?) bills\\n>to fuel their moon-dozers. The money to fund a lunar base would be\\n>spent in the country to which the base belonged. It\\'s a way of funding\\n>high-tech research, just like DARPA was a good excuse to fund various\\n>fields of research, under the pretense that it was crucial to the\\n>defense of the country, or like ESPRIT is a good excuse for the EC to\\n>fund research, under the pretense that it\\'s good for pan-European\\n>cooperation.\\n>\\n>Now maybe you think that government-funded research is a waste of\\n>money (in fact, I\\'m pretty sure you do), but it does count as\\n>investment spending, which does boost the economy (and just look at\\n>the size of that multiplier :->).\\n\\nActually I favor government funded research. It *is* a pump prime\\nfor a lot of basic technologies. I also understand the short term\\nvalue of high tech welfare programs. But they can\\'t substitute for\\nlong range wealth generation via commercial enterprise. That\\'s what\\'s\\nneeded to maintain a healthy economy *anywhere*, on Earth or Luna.\\nI don\\'t see that long term potential on Luna due to a bunch of\\nfactors I outline in another post.\\n\\nGary\\n-- \\nGary Coffman KE4ZV          |    You make it,     | gatech!wa4mei!ke4zv!gary\\nDestructive Testing Systems |    we break it.     | uunet!rsiatl!ke4zv!gary\\n534 Shannon Way             |    Guaranteed!      | emory!kd4nc!ke4zv!gary \\nLawrenceville, GA 30244     |                     | \\n',\n",
       " 'From: kime@mongoose.torolab.ibm.com (Edward Kim)\\nSubject: Re: Relative value of players\\nIn-Reply-To: jle@world.std.com\\'s message of Tue, 20 Apr 1993 05:19:28 GMT\\nLines: 49\\nOrganization: IBM Toronto Lab\\n\\nIn article <C5ro4H.Lww@world.std.com> jle@world.std.com (Joe M Leonard) writes:\\n\\n> Before folks jump on me, let me ask the net - would the Jays\\n> have won the AL with a good pitcher from AAA in place of Morris (given\\n> his run support)?  How about an average ML pitcher?  I can\\'t believe\\n> that Morris\\' performance in the playoffs and series had a large positive\\n> impact on the Jays performance ...\\n\\nI know it\\'s very trendy nowadays to dump on Morris, but let\\'s give credit\\nwhere credit is due.\\n\\nIt is doubtful that the blue jays would have won the AL east without Morris.\\nLast year, when the team went 13-15 for the month of August, and all the \\nother starters were being shelled, and Milwaukee was making a charge,\\nMorris went 5-1 with a pretty good era (I can\\'t remember exactly).\\nAlso, let\\'s not underestimate the importance his 240+ innings to save \\nthe bullpen every fifth day.  If he didn\\'t help us win the AL east, forget\\nabout the pennent and the world series.\\n\\nHis run support was high (5.98 runs) but so was Stottlemyer\\'s (5.90 runs)\\nand he won only 12 games.  I do remember Morris winning an inordinate number of\\n6-5 and 8-6 ballgames, but this is to his credit.  He pitched only as good\\nas he needed to be.  When he was up 6-1 in a ballgame, he just put it in cruise\\ncontrol and threw the ball up there and let the batters \"get themseleves out\"\\n(I hate this expression!).  An inexperienced pitcher would wear himself out \\ntrying to make perfect pitches to keep his era down.  But Morris, being a \\nveteran pitcher, knows that winning is the only thing that really matters in\\nbaseball.  By saving himself, he was able to reach back for that little extra\\n(I hate this too!) when the game was on the line.\\n\\nYes Morris is crapping out big time this year, but let\\'s not change history\\nto suit the present.  \\n\\nBTW, I think he should be put in the bullpen; it would be embarrassing a \\nveteran pitcher which Cito would never do, but his era is 17+, how much more\\ncan he be embarrassed?\\n\\n> \\n> From where I sit, I\\'ll let others have the excellent players - I\\'ll\\n> settle for good enough and the ring :-)\\n\\nditto!\\n\\n> \\n> Joe Leonard\\n> jle@world.std.com\\n> \\n\\neddie \\n',\n",
       " 'From: rbunge@access.digex.net (Robert Bunge)\\nSubject: Re: Vandalizing the sky.\\nOrganization: Express Access Online Communications Service, Greenbelt, Maryland USA\\nLines: 44\\nNNTP-Posting-Host: access.digex.net\\n\\nIn article <C6BDIo.K7C@news.cso.uiuc.edu> jbh55289@uxa.cso.uiuc.edu (Josh Hopkins) writes:\\n>rbunge@access.digex.net (Robert Bunge) writes:\\n>\\n>It\\'s vandalism because many people -- power companies -- do maliciously waste light. \\n>\\n>\"maliciously\" implies evil intent.  The lighting companies aren\\'t going out\\n>of their way to spoil the sky.  They just don\\'t care.\\n>\\n>>If they can sell you\\n>>or your city or your state an unshielded light that wastes 30 to 50 percent\\n>>of its light, they make more _money_.  Never mind that your money is wasted.\\n>\\n>It is the responsibility of the customer to choose the most efficient hardware.\\n>If that\\'s what your city will buy, that\\'s what the lighting company will sell.\\n>Write a letter to city hall.\\n\\nThat\\'s fine idea, but it only works if the lighting/power company even bothers to supply good light fixtures.  For instance, a power company in Virginia \\nrecently asked a state commission for permission to sell more lights of various\\ntype.  Yet, all of the different fixture that they sold and wanted to sell\\nwere bad designs - one that wasted the light.  Thus, you couldn\\'t even buy\\na good light from them.  In most places, to get a good light, you have to\\neither order it special at high cost or call a store in Arizona.  At some\\npoint, society starts to make rules.  Cars have to pass safety tests.  \\nCompanies have to meet pollution standards, etc..  There are two ways to achieve this:  educate the public so that they demand good lighting or force code\\ndown the lighting companies backs.  History seems to suggest that the latter\\nis more likely to work.\\n\\n>\\n>Please note that I\\'m not defending light pollution.  The orignial focus of \\n>this thread was space based light sources.\\n>\\nAgreed, so I won\\'t respond again.  It\\'s important for all you spacers out \\nthere to realize that some people will object to various wild ideas that \\nhave been presented.  Just like Congress, it would be best to consult\\nthe astronomers/lovers of the night sky before you try some PR stunt\\nto boost public knowledge about space.\\n>\\n>-- \\n>Josh Hopkins                                          jbh55289@uxa.cso.uiuc.edu\\n>\\t\\t    \"Find a way or make one.\"\\n>\\t             -attributed to Hannibal\\n\\nBob Bunge\\nrbunge@access.digex.com\\n']"
      ]
     },
     "execution_count": 4,
     "metadata": {},
     "output_type": "execute_result"
    }
   ],
   "source": [
    "newsgroups['data'][:10] # первые 10 текстов"
   ]
  },
  {
   "cell_type": "code",
   "execution_count": 5,
   "metadata": {},
   "outputs": [
    {
     "data": {
      "text/plain": [
       "array([0, 0, 0, 0, 0, 1, 0, 1, 0, 1])"
      ]
     },
     "execution_count": 5,
     "metadata": {},
     "output_type": "execute_result"
    }
   ],
   "source": [
    "newsgroups['target'][:10] # первые 10 номеров категорий (классов)"
   ]
  },
  {
   "cell_type": "markdown",
   "metadata": {},
   "source": [
    "## Создадим векторизатор TFIDF"
   ]
  },
  {
   "cell_type": "markdown",
   "metadata": {},
   "source": [
    "Сначала нам нужно будет прогонять все тексты на вход в нашу модель через него"
   ]
  },
  {
   "cell_type": "code",
   "execution_count": 6,
   "metadata": {},
   "outputs": [],
   "source": [
    "vectorizer = TfidfVectorizer(stop_words='english', max_df=0.7)\n",
    "X = vectorizer.fit_transform(newsgroups['data'])"
   ]
  },
  {
   "cell_type": "code",
   "execution_count": 7,
   "metadata": {},
   "outputs": [
    {
     "data": {
      "text/plain": [
       "array([[0.        , 0.        , 0.        , ..., 0.        , 0.        ,\n",
       "        0.        ],\n",
       "       [0.        , 0.        , 0.        , ..., 0.        , 0.        ,\n",
       "        0.        ],\n",
       "       [0.        , 0.        , 0.        , ..., 0.        , 0.        ,\n",
       "        0.        ],\n",
       "       ...,\n",
       "       [0.        , 0.        , 0.        , ..., 0.        , 0.        ,\n",
       "        0.        ],\n",
       "       [0.        , 0.        , 0.        , ..., 0.        , 0.        ,\n",
       "        0.        ],\n",
       "       [0.        , 0.04968785, 0.        , ..., 0.        , 0.        ,\n",
       "        0.        ]])"
      ]
     },
     "execution_count": 7,
     "metadata": {},
     "output_type": "execute_result"
    }
   ],
   "source": [
    "X.toarray() # выведем, во что превратились наши тексты"
   ]
  },
  {
   "cell_type": "code",
   "execution_count": 8,
   "metadata": {},
   "outputs": [],
   "source": [
    "y = newsgroups['target'] # целевой выход сети (0 или 1 для бейсбола или космоса)"
   ]
  },
  {
   "cell_type": "markdown",
   "metadata": {},
   "source": [
    "## Обучим модель"
   ]
  },
  {
   "cell_type": "markdown",
   "metadata": {},
   "source": [
    "### Разделим данные на тренировочные и контрольные 70%/30%"
   ]
  },
  {
   "cell_type": "code",
   "execution_count": 9,
   "metadata": {},
   "outputs": [],
   "source": [
    "X_train, X_test, y_train, y_test = train_test_split(X, y, test_size=0.3, random_state=42)"
   ]
  },
  {
   "cell_type": "markdown",
   "metadata": {},
   "source": [
    "### Инициализируем и обучим модель"
   ]
  },
  {
   "cell_type": "code",
   "execution_count": 10,
   "metadata": {},
   "outputs": [
    {
     "data": {
      "text/html": [
       "<style>#sk-container-id-1 {\n",
       "  /* Definition of color scheme common for light and dark mode */\n",
       "  --sklearn-color-text: #000;\n",
       "  --sklearn-color-text-muted: #666;\n",
       "  --sklearn-color-line: gray;\n",
       "  /* Definition of color scheme for unfitted estimators */\n",
       "  --sklearn-color-unfitted-level-0: #fff5e6;\n",
       "  --sklearn-color-unfitted-level-1: #f6e4d2;\n",
       "  --sklearn-color-unfitted-level-2: #ffe0b3;\n",
       "  --sklearn-color-unfitted-level-3: chocolate;\n",
       "  /* Definition of color scheme for fitted estimators */\n",
       "  --sklearn-color-fitted-level-0: #f0f8ff;\n",
       "  --sklearn-color-fitted-level-1: #d4ebff;\n",
       "  --sklearn-color-fitted-level-2: #b3dbfd;\n",
       "  --sklearn-color-fitted-level-3: cornflowerblue;\n",
       "\n",
       "  /* Specific color for light theme */\n",
       "  --sklearn-color-text-on-default-background: var(--sg-text-color, var(--theme-code-foreground, var(--jp-content-font-color1, black)));\n",
       "  --sklearn-color-background: var(--sg-background-color, var(--theme-background, var(--jp-layout-color0, white)));\n",
       "  --sklearn-color-border-box: var(--sg-text-color, var(--theme-code-foreground, var(--jp-content-font-color1, black)));\n",
       "  --sklearn-color-icon: #696969;\n",
       "\n",
       "  @media (prefers-color-scheme: dark) {\n",
       "    /* Redefinition of color scheme for dark theme */\n",
       "    --sklearn-color-text-on-default-background: var(--sg-text-color, var(--theme-code-foreground, var(--jp-content-font-color1, white)));\n",
       "    --sklearn-color-background: var(--sg-background-color, var(--theme-background, var(--jp-layout-color0, #111)));\n",
       "    --sklearn-color-border-box: var(--sg-text-color, var(--theme-code-foreground, var(--jp-content-font-color1, white)));\n",
       "    --sklearn-color-icon: #878787;\n",
       "  }\n",
       "}\n",
       "\n",
       "#sk-container-id-1 {\n",
       "  color: var(--sklearn-color-text);\n",
       "}\n",
       "\n",
       "#sk-container-id-1 pre {\n",
       "  padding: 0;\n",
       "}\n",
       "\n",
       "#sk-container-id-1 input.sk-hidden--visually {\n",
       "  border: 0;\n",
       "  clip: rect(1px 1px 1px 1px);\n",
       "  clip: rect(1px, 1px, 1px, 1px);\n",
       "  height: 1px;\n",
       "  margin: -1px;\n",
       "  overflow: hidden;\n",
       "  padding: 0;\n",
       "  position: absolute;\n",
       "  width: 1px;\n",
       "}\n",
       "\n",
       "#sk-container-id-1 div.sk-dashed-wrapped {\n",
       "  border: 1px dashed var(--sklearn-color-line);\n",
       "  margin: 0 0.4em 0.5em 0.4em;\n",
       "  box-sizing: border-box;\n",
       "  padding-bottom: 0.4em;\n",
       "  background-color: var(--sklearn-color-background);\n",
       "}\n",
       "\n",
       "#sk-container-id-1 div.sk-container {\n",
       "  /* jupyter's `normalize.less` sets `[hidden] { display: none; }`\n",
       "     but bootstrap.min.css set `[hidden] { display: none !important; }`\n",
       "     so we also need the `!important` here to be able to override the\n",
       "     default hidden behavior on the sphinx rendered scikit-learn.org.\n",
       "     See: https://github.com/scikit-learn/scikit-learn/issues/21755 */\n",
       "  display: inline-block !important;\n",
       "  position: relative;\n",
       "}\n",
       "\n",
       "#sk-container-id-1 div.sk-text-repr-fallback {\n",
       "  display: none;\n",
       "}\n",
       "\n",
       "div.sk-parallel-item,\n",
       "div.sk-serial,\n",
       "div.sk-item {\n",
       "  /* draw centered vertical line to link estimators */\n",
       "  background-image: linear-gradient(var(--sklearn-color-text-on-default-background), var(--sklearn-color-text-on-default-background));\n",
       "  background-size: 2px 100%;\n",
       "  background-repeat: no-repeat;\n",
       "  background-position: center center;\n",
       "}\n",
       "\n",
       "/* Parallel-specific style estimator block */\n",
       "\n",
       "#sk-container-id-1 div.sk-parallel-item::after {\n",
       "  content: \"\";\n",
       "  width: 100%;\n",
       "  border-bottom: 2px solid var(--sklearn-color-text-on-default-background);\n",
       "  flex-grow: 1;\n",
       "}\n",
       "\n",
       "#sk-container-id-1 div.sk-parallel {\n",
       "  display: flex;\n",
       "  align-items: stretch;\n",
       "  justify-content: center;\n",
       "  background-color: var(--sklearn-color-background);\n",
       "  position: relative;\n",
       "}\n",
       "\n",
       "#sk-container-id-1 div.sk-parallel-item {\n",
       "  display: flex;\n",
       "  flex-direction: column;\n",
       "}\n",
       "\n",
       "#sk-container-id-1 div.sk-parallel-item:first-child::after {\n",
       "  align-self: flex-end;\n",
       "  width: 50%;\n",
       "}\n",
       "\n",
       "#sk-container-id-1 div.sk-parallel-item:last-child::after {\n",
       "  align-self: flex-start;\n",
       "  width: 50%;\n",
       "}\n",
       "\n",
       "#sk-container-id-1 div.sk-parallel-item:only-child::after {\n",
       "  width: 0;\n",
       "}\n",
       "\n",
       "/* Serial-specific style estimator block */\n",
       "\n",
       "#sk-container-id-1 div.sk-serial {\n",
       "  display: flex;\n",
       "  flex-direction: column;\n",
       "  align-items: center;\n",
       "  background-color: var(--sklearn-color-background);\n",
       "  padding-right: 1em;\n",
       "  padding-left: 1em;\n",
       "}\n",
       "\n",
       "\n",
       "/* Toggleable style: style used for estimator/Pipeline/ColumnTransformer box that is\n",
       "clickable and can be expanded/collapsed.\n",
       "- Pipeline and ColumnTransformer use this feature and define the default style\n",
       "- Estimators will overwrite some part of the style using the `sk-estimator` class\n",
       "*/\n",
       "\n",
       "/* Pipeline and ColumnTransformer style (default) */\n",
       "\n",
       "#sk-container-id-1 div.sk-toggleable {\n",
       "  /* Default theme specific background. It is overwritten whether we have a\n",
       "  specific estimator or a Pipeline/ColumnTransformer */\n",
       "  background-color: var(--sklearn-color-background);\n",
       "}\n",
       "\n",
       "/* Toggleable label */\n",
       "#sk-container-id-1 label.sk-toggleable__label {\n",
       "  cursor: pointer;\n",
       "  display: flex;\n",
       "  width: 100%;\n",
       "  margin-bottom: 0;\n",
       "  padding: 0.5em;\n",
       "  box-sizing: border-box;\n",
       "  text-align: center;\n",
       "  align-items: start;\n",
       "  justify-content: space-between;\n",
       "  gap: 0.5em;\n",
       "}\n",
       "\n",
       "#sk-container-id-1 label.sk-toggleable__label .caption {\n",
       "  font-size: 0.6rem;\n",
       "  font-weight: lighter;\n",
       "  color: var(--sklearn-color-text-muted);\n",
       "}\n",
       "\n",
       "#sk-container-id-1 label.sk-toggleable__label-arrow:before {\n",
       "  /* Arrow on the left of the label */\n",
       "  content: \"▸\";\n",
       "  float: left;\n",
       "  margin-right: 0.25em;\n",
       "  color: var(--sklearn-color-icon);\n",
       "}\n",
       "\n",
       "#sk-container-id-1 label.sk-toggleable__label-arrow:hover:before {\n",
       "  color: var(--sklearn-color-text);\n",
       "}\n",
       "\n",
       "/* Toggleable content - dropdown */\n",
       "\n",
       "#sk-container-id-1 div.sk-toggleable__content {\n",
       "  max-height: 0;\n",
       "  max-width: 0;\n",
       "  overflow: hidden;\n",
       "  text-align: left;\n",
       "  /* unfitted */\n",
       "  background-color: var(--sklearn-color-unfitted-level-0);\n",
       "}\n",
       "\n",
       "#sk-container-id-1 div.sk-toggleable__content.fitted {\n",
       "  /* fitted */\n",
       "  background-color: var(--sklearn-color-fitted-level-0);\n",
       "}\n",
       "\n",
       "#sk-container-id-1 div.sk-toggleable__content pre {\n",
       "  margin: 0.2em;\n",
       "  border-radius: 0.25em;\n",
       "  color: var(--sklearn-color-text);\n",
       "  /* unfitted */\n",
       "  background-color: var(--sklearn-color-unfitted-level-0);\n",
       "}\n",
       "\n",
       "#sk-container-id-1 div.sk-toggleable__content.fitted pre {\n",
       "  /* unfitted */\n",
       "  background-color: var(--sklearn-color-fitted-level-0);\n",
       "}\n",
       "\n",
       "#sk-container-id-1 input.sk-toggleable__control:checked~div.sk-toggleable__content {\n",
       "  /* Expand drop-down */\n",
       "  max-height: 200px;\n",
       "  max-width: 100%;\n",
       "  overflow: auto;\n",
       "}\n",
       "\n",
       "#sk-container-id-1 input.sk-toggleable__control:checked~label.sk-toggleable__label-arrow:before {\n",
       "  content: \"▾\";\n",
       "}\n",
       "\n",
       "/* Pipeline/ColumnTransformer-specific style */\n",
       "\n",
       "#sk-container-id-1 div.sk-label input.sk-toggleable__control:checked~label.sk-toggleable__label {\n",
       "  color: var(--sklearn-color-text);\n",
       "  background-color: var(--sklearn-color-unfitted-level-2);\n",
       "}\n",
       "\n",
       "#sk-container-id-1 div.sk-label.fitted input.sk-toggleable__control:checked~label.sk-toggleable__label {\n",
       "  background-color: var(--sklearn-color-fitted-level-2);\n",
       "}\n",
       "\n",
       "/* Estimator-specific style */\n",
       "\n",
       "/* Colorize estimator box */\n",
       "#sk-container-id-1 div.sk-estimator input.sk-toggleable__control:checked~label.sk-toggleable__label {\n",
       "  /* unfitted */\n",
       "  background-color: var(--sklearn-color-unfitted-level-2);\n",
       "}\n",
       "\n",
       "#sk-container-id-1 div.sk-estimator.fitted input.sk-toggleable__control:checked~label.sk-toggleable__label {\n",
       "  /* fitted */\n",
       "  background-color: var(--sklearn-color-fitted-level-2);\n",
       "}\n",
       "\n",
       "#sk-container-id-1 div.sk-label label.sk-toggleable__label,\n",
       "#sk-container-id-1 div.sk-label label {\n",
       "  /* The background is the default theme color */\n",
       "  color: var(--sklearn-color-text-on-default-background);\n",
       "}\n",
       "\n",
       "/* On hover, darken the color of the background */\n",
       "#sk-container-id-1 div.sk-label:hover label.sk-toggleable__label {\n",
       "  color: var(--sklearn-color-text);\n",
       "  background-color: var(--sklearn-color-unfitted-level-2);\n",
       "}\n",
       "\n",
       "/* Label box, darken color on hover, fitted */\n",
       "#sk-container-id-1 div.sk-label.fitted:hover label.sk-toggleable__label.fitted {\n",
       "  color: var(--sklearn-color-text);\n",
       "  background-color: var(--sklearn-color-fitted-level-2);\n",
       "}\n",
       "\n",
       "/* Estimator label */\n",
       "\n",
       "#sk-container-id-1 div.sk-label label {\n",
       "  font-family: monospace;\n",
       "  font-weight: bold;\n",
       "  display: inline-block;\n",
       "  line-height: 1.2em;\n",
       "}\n",
       "\n",
       "#sk-container-id-1 div.sk-label-container {\n",
       "  text-align: center;\n",
       "}\n",
       "\n",
       "/* Estimator-specific */\n",
       "#sk-container-id-1 div.sk-estimator {\n",
       "  font-family: monospace;\n",
       "  border: 1px dotted var(--sklearn-color-border-box);\n",
       "  border-radius: 0.25em;\n",
       "  box-sizing: border-box;\n",
       "  margin-bottom: 0.5em;\n",
       "  /* unfitted */\n",
       "  background-color: var(--sklearn-color-unfitted-level-0);\n",
       "}\n",
       "\n",
       "#sk-container-id-1 div.sk-estimator.fitted {\n",
       "  /* fitted */\n",
       "  background-color: var(--sklearn-color-fitted-level-0);\n",
       "}\n",
       "\n",
       "/* on hover */\n",
       "#sk-container-id-1 div.sk-estimator:hover {\n",
       "  /* unfitted */\n",
       "  background-color: var(--sklearn-color-unfitted-level-2);\n",
       "}\n",
       "\n",
       "#sk-container-id-1 div.sk-estimator.fitted:hover {\n",
       "  /* fitted */\n",
       "  background-color: var(--sklearn-color-fitted-level-2);\n",
       "}\n",
       "\n",
       "/* Specification for estimator info (e.g. \"i\" and \"?\") */\n",
       "\n",
       "/* Common style for \"i\" and \"?\" */\n",
       "\n",
       ".sk-estimator-doc-link,\n",
       "a:link.sk-estimator-doc-link,\n",
       "a:visited.sk-estimator-doc-link {\n",
       "  float: right;\n",
       "  font-size: smaller;\n",
       "  line-height: 1em;\n",
       "  font-family: monospace;\n",
       "  background-color: var(--sklearn-color-background);\n",
       "  border-radius: 1em;\n",
       "  height: 1em;\n",
       "  width: 1em;\n",
       "  text-decoration: none !important;\n",
       "  margin-left: 0.5em;\n",
       "  text-align: center;\n",
       "  /* unfitted */\n",
       "  border: var(--sklearn-color-unfitted-level-1) 1pt solid;\n",
       "  color: var(--sklearn-color-unfitted-level-1);\n",
       "}\n",
       "\n",
       ".sk-estimator-doc-link.fitted,\n",
       "a:link.sk-estimator-doc-link.fitted,\n",
       "a:visited.sk-estimator-doc-link.fitted {\n",
       "  /* fitted */\n",
       "  border: var(--sklearn-color-fitted-level-1) 1pt solid;\n",
       "  color: var(--sklearn-color-fitted-level-1);\n",
       "}\n",
       "\n",
       "/* On hover */\n",
       "div.sk-estimator:hover .sk-estimator-doc-link:hover,\n",
       ".sk-estimator-doc-link:hover,\n",
       "div.sk-label-container:hover .sk-estimator-doc-link:hover,\n",
       ".sk-estimator-doc-link:hover {\n",
       "  /* unfitted */\n",
       "  background-color: var(--sklearn-color-unfitted-level-3);\n",
       "  color: var(--sklearn-color-background);\n",
       "  text-decoration: none;\n",
       "}\n",
       "\n",
       "div.sk-estimator.fitted:hover .sk-estimator-doc-link.fitted:hover,\n",
       ".sk-estimator-doc-link.fitted:hover,\n",
       "div.sk-label-container:hover .sk-estimator-doc-link.fitted:hover,\n",
       ".sk-estimator-doc-link.fitted:hover {\n",
       "  /* fitted */\n",
       "  background-color: var(--sklearn-color-fitted-level-3);\n",
       "  color: var(--sklearn-color-background);\n",
       "  text-decoration: none;\n",
       "}\n",
       "\n",
       "/* Span, style for the box shown on hovering the info icon */\n",
       ".sk-estimator-doc-link span {\n",
       "  display: none;\n",
       "  z-index: 9999;\n",
       "  position: relative;\n",
       "  font-weight: normal;\n",
       "  right: .2ex;\n",
       "  padding: .5ex;\n",
       "  margin: .5ex;\n",
       "  width: min-content;\n",
       "  min-width: 20ex;\n",
       "  max-width: 50ex;\n",
       "  color: var(--sklearn-color-text);\n",
       "  box-shadow: 2pt 2pt 4pt #999;\n",
       "  /* unfitted */\n",
       "  background: var(--sklearn-color-unfitted-level-0);\n",
       "  border: .5pt solid var(--sklearn-color-unfitted-level-3);\n",
       "}\n",
       "\n",
       ".sk-estimator-doc-link.fitted span {\n",
       "  /* fitted */\n",
       "  background: var(--sklearn-color-fitted-level-0);\n",
       "  border: var(--sklearn-color-fitted-level-3);\n",
       "}\n",
       "\n",
       ".sk-estimator-doc-link:hover span {\n",
       "  display: block;\n",
       "}\n",
       "\n",
       "/* \"?\"-specific style due to the `<a>` HTML tag */\n",
       "\n",
       "#sk-container-id-1 a.estimator_doc_link {\n",
       "  float: right;\n",
       "  font-size: 1rem;\n",
       "  line-height: 1em;\n",
       "  font-family: monospace;\n",
       "  background-color: var(--sklearn-color-background);\n",
       "  border-radius: 1rem;\n",
       "  height: 1rem;\n",
       "  width: 1rem;\n",
       "  text-decoration: none;\n",
       "  /* unfitted */\n",
       "  color: var(--sklearn-color-unfitted-level-1);\n",
       "  border: var(--sklearn-color-unfitted-level-1) 1pt solid;\n",
       "}\n",
       "\n",
       "#sk-container-id-1 a.estimator_doc_link.fitted {\n",
       "  /* fitted */\n",
       "  border: var(--sklearn-color-fitted-level-1) 1pt solid;\n",
       "  color: var(--sklearn-color-fitted-level-1);\n",
       "}\n",
       "\n",
       "/* On hover */\n",
       "#sk-container-id-1 a.estimator_doc_link:hover {\n",
       "  /* unfitted */\n",
       "  background-color: var(--sklearn-color-unfitted-level-3);\n",
       "  color: var(--sklearn-color-background);\n",
       "  text-decoration: none;\n",
       "}\n",
       "\n",
       "#sk-container-id-1 a.estimator_doc_link.fitted:hover {\n",
       "  /* fitted */\n",
       "  background-color: var(--sklearn-color-fitted-level-3);\n",
       "}\n",
       "</style><div id=\"sk-container-id-1\" class=\"sk-top-container\"><div class=\"sk-text-repr-fallback\"><pre>SVC(kernel=&#x27;linear&#x27;)</pre><b>In a Jupyter environment, please rerun this cell to show the HTML representation or trust the notebook. <br />On GitHub, the HTML representation is unable to render, please try loading this page with nbviewer.org.</b></div><div class=\"sk-container\" hidden><div class=\"sk-item\"><div class=\"sk-estimator fitted sk-toggleable\"><input class=\"sk-toggleable__control sk-hidden--visually\" id=\"sk-estimator-id-1\" type=\"checkbox\" checked><label for=\"sk-estimator-id-1\" class=\"sk-toggleable__label fitted sk-toggleable__label-arrow\"><div><div>SVC</div></div><div><a class=\"sk-estimator-doc-link fitted\" rel=\"noreferrer\" target=\"_blank\" href=\"https://scikit-learn.org/1.6/modules/generated/sklearn.svm.SVC.html\">?<span>Documentation for SVC</span></a><span class=\"sk-estimator-doc-link fitted\">i<span>Fitted</span></span></div></label><div class=\"sk-toggleable__content fitted\"><pre>SVC(kernel=&#x27;linear&#x27;)</pre></div> </div></div></div></div>"
      ],
      "text/plain": [
       "SVC(kernel='linear')"
      ]
     },
     "execution_count": 10,
     "metadata": {},
     "output_type": "execute_result"
    }
   ],
   "source": [
    "clf = SVC(kernel='linear')\n",
    "clf.fit(X_train, y_train)"
   ]
  },
  {
   "cell_type": "code",
   "execution_count": 11,
   "metadata": {},
   "outputs": [
    {
     "data": {
      "text/plain": [
       "array([0, 0, 0, 0, 0, 1, 0, 1, 1, 1, 1, 0, 0, 1, 0, 0, 1, 0, 1, 1, 1, 1,\n",
       "       1, 0, 1, 1, 0, 1, 1, 1, 0, 0, 1, 0, 1, 1, 1, 0, 1, 0, 0, 0, 1, 1,\n",
       "       0, 1, 0, 1, 1, 0, 1, 1, 0, 0, 0, 1, 0, 0, 1, 0, 1, 1, 0, 1, 1, 0,\n",
       "       0, 1, 1, 0, 0, 1, 0, 1, 1, 1, 0, 1, 0, 1, 0, 1, 0, 1, 1, 0, 1, 0,\n",
       "       0, 0, 1, 1, 0, 0, 1, 1, 1, 1, 0, 0, 0, 0, 1, 1, 1, 1, 1, 0, 0, 1,\n",
       "       1, 0, 1, 0, 0, 0, 0, 1, 1, 1, 0, 0, 1, 1, 0, 0, 1, 0, 0, 1, 0, 0,\n",
       "       0, 1, 1, 1, 1, 1, 1, 1, 0, 1, 0, 0, 0, 1, 1, 1, 0, 1, 0, 1, 1, 1,\n",
       "       0, 1, 1, 0, 0, 0, 1, 1, 1, 0, 1, 0, 0, 0, 0, 1, 1, 0, 0, 1, 1, 1,\n",
       "       1, 1, 0, 0, 1, 1, 1, 0, 1, 1, 0, 1, 1, 0, 0, 1, 0, 1, 1, 0, 0, 1,\n",
       "       1, 1, 0, 1, 0, 0, 1, 1, 0, 1, 0, 0, 1, 0, 1, 1, 0, 0, 1, 1, 0, 0,\n",
       "       1, 0, 1, 1, 0, 0, 0, 0, 1, 0, 1, 1, 1, 1, 1, 0, 0, 0, 1, 1, 0, 1,\n",
       "       0, 1, 0, 0, 1, 1, 1, 1, 1, 0, 0, 0, 0, 1, 1, 1, 1, 0, 0, 1, 0, 1,\n",
       "       1, 0, 0, 0, 0, 1, 1, 0, 0, 1, 1, 0, 1, 0, 0, 0, 1, 1, 1, 1, 1, 1,\n",
       "       1, 0, 1, 1, 0, 1, 0, 1, 0, 1, 0, 0, 1, 1, 0, 1, 1, 0, 0, 1, 0, 0,\n",
       "       1, 0, 1, 1, 1, 0, 0, 1, 0, 1, 0, 1, 0, 0, 1, 1, 1, 0, 1, 0, 1, 1,\n",
       "       1, 1, 1, 1, 1, 1, 0, 1, 0, 1, 1, 0, 0, 0, 0, 1, 1, 1, 0, 0, 0, 0,\n",
       "       0, 1, 0, 1, 0, 0, 1, 1, 0, 0, 0, 0, 0, 0, 0, 1, 1, 1, 1, 0, 0, 0,\n",
       "       0, 1, 1, 0, 0, 0, 0, 1, 0, 1, 0, 1, 1, 1, 0, 1, 0, 1, 0, 1, 1, 0,\n",
       "       1, 1, 0, 1, 0, 1, 0, 1, 1, 1, 1, 0, 1, 0, 1, 0, 1, 1, 0, 1, 0, 0,\n",
       "       0, 1, 1, 0, 1, 0, 0, 0, 0, 0, 0, 1, 1, 0, 0, 1, 0, 0, 0, 1, 1, 1,\n",
       "       0, 1, 1, 1, 1, 1, 0, 0, 1, 1, 0, 0, 1, 0, 1, 0, 1, 0, 1, 1, 0, 1,\n",
       "       0, 0, 0, 0, 0, 0, 1, 1, 0, 1, 1, 1, 1, 0, 0, 1, 0, 0, 1, 1, 1, 1,\n",
       "       1, 1, 0, 1, 1, 0, 0, 1, 1, 1, 0, 0, 0, 1, 0, 1, 0, 0, 1, 0, 1, 1,\n",
       "       1, 0, 1, 0, 1, 0, 0, 0, 1, 1, 0, 1, 0, 1, 0, 1, 1, 1, 0, 1, 1, 0,\n",
       "       0, 0, 1, 1, 1, 0, 0, 0, 0, 0, 0, 1, 0, 0, 1, 1, 1, 0, 1, 0, 1, 0,\n",
       "       0, 1, 1, 0, 0, 0, 0, 1, 0, 0, 1, 1, 0, 0, 0, 1, 1, 0, 1, 0, 1, 0,\n",
       "       0, 1, 1, 0, 0, 0, 1, 0, 1, 0, 0, 1, 1, 1, 0, 0, 0, 0, 0, 1, 1, 0,\n",
       "       1])"
      ]
     },
     "execution_count": 11,
     "metadata": {},
     "output_type": "execute_result"
    }
   ],
   "source": [
    "y_pred = clf.predict(X_test) # попробуем предсказать категорию для контрольных данных\n",
    "y_pred"
   ]
  },
  {
   "cell_type": "code",
   "execution_count": 12,
   "metadata": {},
   "outputs": [
    {
     "name": "stdout",
     "output_type": "stream",
     "text": [
      "Accuracy: 0.9966\n",
      "Classification Report:\n",
      "                    precision    recall  f1-score   support\n",
      "\n",
      "rec.sport.baseball       0.99      1.00      1.00       286\n",
      "         sci.space       1.00      0.99      1.00       309\n",
      "\n",
      "          accuracy                           1.00       595\n",
      "         macro avg       1.00      1.00      1.00       595\n",
      "      weighted avg       1.00      1.00      1.00       595\n",
      "\n"
     ]
    }
   ],
   "source": [
    "accuracy = accuracy_score(y_test, y_pred) # вычислим точность между контрольными ответами и предсказаниями\n",
    "report = classification_report(y_test, y_pred, target_names=newsgroups.target_names) # сформируем отчет\n",
    "\n",
    "print(f'Accuracy: {accuracy:.4f}')\n",
    "print('Classification Report:')\n",
    "print(report)"
   ]
  },
  {
   "cell_type": "markdown",
   "metadata": {},
   "source": [
    "Получили точность в 0.9966! Это очень хороший результат"
   ]
  },
  {
   "cell_type": "markdown",
   "metadata": {},
   "source": [
    "# Задание"
   ]
  },
  {
   "cell_type": "markdown",
   "metadata": {},
   "source": [
    "Создайте модель определения токсичности комментариев.\n",
    "\n",
    "Как датасет, используйте файл `datasets/Dataset_labeled.csv`. Значение 1.0 означает, что комментарий токсичен, 0 - что нет.\n",
    "\n",
    "Не забудьте провести первичный анализ на отсутсвующие значения, если такие существуют\n",
    "\n",
    "Добейтесь максимальной точности и выведите метрики вашей модели на контрольных данных\n",
    "\n",
    "**Дополнительные задачи (порядок не важен)**\n",
    "\n",
    "* Создайте визуализацию процента токсичных и нетоксичных комментариев на датасете\n",
    "* Создайте визуализацию SHAP вклада каждого слова в результат (ищите в Интернете)\n",
    "* Преобразуйте датасет datasets/Dataset_2_labeled.csv в формат csv с помощью pandas, в котором 0 во второй колоке значит NORMAL, 1 значит не NORMAL. Сохраните код преобразования\n",
    "\n",
    "Подсказка:\n",
    "```\n",
    "from nltk.corpus import stopwords\n",
    "stop_words = stopwords.words('russian')\n",
    "```"
   ]
  }
 ],
 "metadata": {
  "kernelspec": {
   "display_name": ".venv",
   "language": "python",
   "name": "python3"
  },
  "language_info": {
   "codemirror_mode": {
    "name": "ipython",
    "version": 3
   },
   "file_extension": ".py",
   "mimetype": "text/x-python",
   "name": "python",
   "nbconvert_exporter": "python",
   "pygments_lexer": "ipython3",
   "version": "3.12.3"
  }
 },
 "nbformat": 4,
 "nbformat_minor": 2
}
